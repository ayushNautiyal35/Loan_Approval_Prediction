{
 "cells": [
  {
   "cell_type": "markdown",
   "id": "50b17e8b",
   "metadata": {},
   "source": [
    "# Problem statement : The goal for this competition is to predict whether an applicant is approved for a loan."
   ]
  },
  {
   "cell_type": "code",
   "execution_count": 1,
   "id": "91e210a2",
   "metadata": {},
   "outputs": [],
   "source": [
    "import pandas as pd"
   ]
  },
  {
   "cell_type": "code",
   "execution_count": 2,
   "id": "21f1759a",
   "metadata": {},
   "outputs": [],
   "source": [
    "data=pd.read_csv(\"train.csv\")"
   ]
  },
  {
   "cell_type": "code",
   "execution_count": 3,
   "id": "41e189cf",
   "metadata": {},
   "outputs": [
    {
     "data": {
      "text/html": [
       "<div>\n",
       "<style scoped>\n",
       "    .dataframe tbody tr th:only-of-type {\n",
       "        vertical-align: middle;\n",
       "    }\n",
       "\n",
       "    .dataframe tbody tr th {\n",
       "        vertical-align: top;\n",
       "    }\n",
       "\n",
       "    .dataframe thead th {\n",
       "        text-align: right;\n",
       "    }\n",
       "</style>\n",
       "<table border=\"1\" class=\"dataframe\">\n",
       "  <thead>\n",
       "    <tr style=\"text-align: right;\">\n",
       "      <th></th>\n",
       "      <th>id</th>\n",
       "      <th>person_age</th>\n",
       "      <th>person_income</th>\n",
       "      <th>person_home_ownership</th>\n",
       "      <th>person_emp_length</th>\n",
       "      <th>loan_intent</th>\n",
       "      <th>loan_grade</th>\n",
       "      <th>loan_amnt</th>\n",
       "      <th>loan_int_rate</th>\n",
       "      <th>loan_percent_income</th>\n",
       "      <th>cb_person_default_on_file</th>\n",
       "      <th>cb_person_cred_hist_length</th>\n",
       "      <th>loan_status</th>\n",
       "    </tr>\n",
       "  </thead>\n",
       "  <tbody>\n",
       "    <tr>\n",
       "      <th>0</th>\n",
       "      <td>0</td>\n",
       "      <td>37</td>\n",
       "      <td>35000</td>\n",
       "      <td>RENT</td>\n",
       "      <td>0.0</td>\n",
       "      <td>EDUCATION</td>\n",
       "      <td>B</td>\n",
       "      <td>6000</td>\n",
       "      <td>11.49</td>\n",
       "      <td>0.17</td>\n",
       "      <td>N</td>\n",
       "      <td>14</td>\n",
       "      <td>0</td>\n",
       "    </tr>\n",
       "    <tr>\n",
       "      <th>1</th>\n",
       "      <td>1</td>\n",
       "      <td>22</td>\n",
       "      <td>56000</td>\n",
       "      <td>OWN</td>\n",
       "      <td>6.0</td>\n",
       "      <td>MEDICAL</td>\n",
       "      <td>C</td>\n",
       "      <td>4000</td>\n",
       "      <td>13.35</td>\n",
       "      <td>0.07</td>\n",
       "      <td>N</td>\n",
       "      <td>2</td>\n",
       "      <td>0</td>\n",
       "    </tr>\n",
       "    <tr>\n",
       "      <th>2</th>\n",
       "      <td>2</td>\n",
       "      <td>29</td>\n",
       "      <td>28800</td>\n",
       "      <td>OWN</td>\n",
       "      <td>8.0</td>\n",
       "      <td>PERSONAL</td>\n",
       "      <td>A</td>\n",
       "      <td>6000</td>\n",
       "      <td>8.90</td>\n",
       "      <td>0.21</td>\n",
       "      <td>N</td>\n",
       "      <td>10</td>\n",
       "      <td>0</td>\n",
       "    </tr>\n",
       "    <tr>\n",
       "      <th>3</th>\n",
       "      <td>3</td>\n",
       "      <td>30</td>\n",
       "      <td>70000</td>\n",
       "      <td>RENT</td>\n",
       "      <td>14.0</td>\n",
       "      <td>VENTURE</td>\n",
       "      <td>B</td>\n",
       "      <td>12000</td>\n",
       "      <td>11.11</td>\n",
       "      <td>0.17</td>\n",
       "      <td>N</td>\n",
       "      <td>5</td>\n",
       "      <td>0</td>\n",
       "    </tr>\n",
       "    <tr>\n",
       "      <th>4</th>\n",
       "      <td>4</td>\n",
       "      <td>22</td>\n",
       "      <td>60000</td>\n",
       "      <td>RENT</td>\n",
       "      <td>2.0</td>\n",
       "      <td>MEDICAL</td>\n",
       "      <td>A</td>\n",
       "      <td>6000</td>\n",
       "      <td>6.92</td>\n",
       "      <td>0.10</td>\n",
       "      <td>N</td>\n",
       "      <td>3</td>\n",
       "      <td>0</td>\n",
       "    </tr>\n",
       "  </tbody>\n",
       "</table>\n",
       "</div>"
      ],
      "text/plain": [
       "   id  person_age  person_income person_home_ownership  person_emp_length  \\\n",
       "0   0          37          35000                  RENT                0.0   \n",
       "1   1          22          56000                   OWN                6.0   \n",
       "2   2          29          28800                   OWN                8.0   \n",
       "3   3          30          70000                  RENT               14.0   \n",
       "4   4          22          60000                  RENT                2.0   \n",
       "\n",
       "  loan_intent loan_grade  loan_amnt  loan_int_rate  loan_percent_income  \\\n",
       "0   EDUCATION          B       6000          11.49                 0.17   \n",
       "1     MEDICAL          C       4000          13.35                 0.07   \n",
       "2    PERSONAL          A       6000           8.90                 0.21   \n",
       "3     VENTURE          B      12000          11.11                 0.17   \n",
       "4     MEDICAL          A       6000           6.92                 0.10   \n",
       "\n",
       "  cb_person_default_on_file  cb_person_cred_hist_length  loan_status  \n",
       "0                         N                          14            0  \n",
       "1                         N                           2            0  \n",
       "2                         N                          10            0  \n",
       "3                         N                           5            0  \n",
       "4                         N                           3            0  "
      ]
     },
     "execution_count": 3,
     "metadata": {},
     "output_type": "execute_result"
    }
   ],
   "source": [
    "data.head(5)"
   ]
  },
  {
   "cell_type": "code",
   "execution_count": 4,
   "id": "a1b1d90e",
   "metadata": {},
   "outputs": [],
   "source": [
    "#id not needed hence dropping it\n",
    "data.drop('id',axis=1,inplace=True)"
   ]
  },
  {
   "cell_type": "code",
   "execution_count": 5,
   "id": "b2117426",
   "metadata": {},
   "outputs": [
    {
     "data": {
      "text/plain": [
       "703740"
      ]
     },
     "execution_count": 5,
     "metadata": {},
     "output_type": "execute_result"
    }
   ],
   "source": [
    "data.size"
   ]
  },
  {
   "cell_type": "code",
   "execution_count": 6,
   "id": "fc9df64a",
   "metadata": {},
   "outputs": [
    {
     "data": {
      "text/plain": [
       "(58645, 12)"
      ]
     },
     "execution_count": 6,
     "metadata": {},
     "output_type": "execute_result"
    }
   ],
   "source": [
    "data.shape"
   ]
  },
  {
   "cell_type": "code",
   "execution_count": 7,
   "id": "06c2eab2",
   "metadata": {},
   "outputs": [
    {
     "name": "stdout",
     "output_type": "stream",
     "text": [
      "<class 'pandas.core.frame.DataFrame'>\n",
      "RangeIndex: 58645 entries, 0 to 58644\n",
      "Data columns (total 12 columns):\n",
      " #   Column                      Non-Null Count  Dtype  \n",
      "---  ------                      --------------  -----  \n",
      " 0   person_age                  58645 non-null  int64  \n",
      " 1   person_income               58645 non-null  int64  \n",
      " 2   person_home_ownership       58645 non-null  object \n",
      " 3   person_emp_length           58645 non-null  float64\n",
      " 4   loan_intent                 58645 non-null  object \n",
      " 5   loan_grade                  58645 non-null  object \n",
      " 6   loan_amnt                   58645 non-null  int64  \n",
      " 7   loan_int_rate               58645 non-null  float64\n",
      " 8   loan_percent_income         58645 non-null  float64\n",
      " 9   cb_person_default_on_file   58645 non-null  object \n",
      " 10  cb_person_cred_hist_length  58645 non-null  int64  \n",
      " 11  loan_status                 58645 non-null  int64  \n",
      "dtypes: float64(3), int64(5), object(4)\n",
      "memory usage: 5.4+ MB\n"
     ]
    }
   ],
   "source": [
    "data.info()"
   ]
  },
  {
   "cell_type": "code",
   "execution_count": 8,
   "id": "42350815",
   "metadata": {},
   "outputs": [
    {
     "data": {
      "text/html": [
       "<div>\n",
       "<style scoped>\n",
       "    .dataframe tbody tr th:only-of-type {\n",
       "        vertical-align: middle;\n",
       "    }\n",
       "\n",
       "    .dataframe tbody tr th {\n",
       "        vertical-align: top;\n",
       "    }\n",
       "\n",
       "    .dataframe thead th {\n",
       "        text-align: right;\n",
       "    }\n",
       "</style>\n",
       "<table border=\"1\" class=\"dataframe\">\n",
       "  <thead>\n",
       "    <tr style=\"text-align: right;\">\n",
       "      <th></th>\n",
       "      <th>person_age</th>\n",
       "      <th>person_income</th>\n",
       "      <th>person_emp_length</th>\n",
       "      <th>loan_amnt</th>\n",
       "      <th>loan_int_rate</th>\n",
       "      <th>loan_percent_income</th>\n",
       "      <th>cb_person_cred_hist_length</th>\n",
       "      <th>loan_status</th>\n",
       "    </tr>\n",
       "  </thead>\n",
       "  <tbody>\n",
       "    <tr>\n",
       "      <th>count</th>\n",
       "      <td>58645.000000</td>\n",
       "      <td>5.864500e+04</td>\n",
       "      <td>58645.000000</td>\n",
       "      <td>58645.000000</td>\n",
       "      <td>58645.000000</td>\n",
       "      <td>58645.000000</td>\n",
       "      <td>58645.000000</td>\n",
       "      <td>58645.000000</td>\n",
       "    </tr>\n",
       "    <tr>\n",
       "      <th>mean</th>\n",
       "      <td>27.550857</td>\n",
       "      <td>6.404617e+04</td>\n",
       "      <td>4.701015</td>\n",
       "      <td>9217.556518</td>\n",
       "      <td>10.677874</td>\n",
       "      <td>0.159238</td>\n",
       "      <td>5.813556</td>\n",
       "      <td>0.142382</td>\n",
       "    </tr>\n",
       "    <tr>\n",
       "      <th>std</th>\n",
       "      <td>6.033216</td>\n",
       "      <td>3.793111e+04</td>\n",
       "      <td>3.959784</td>\n",
       "      <td>5563.807384</td>\n",
       "      <td>3.034697</td>\n",
       "      <td>0.091692</td>\n",
       "      <td>4.029196</td>\n",
       "      <td>0.349445</td>\n",
       "    </tr>\n",
       "    <tr>\n",
       "      <th>min</th>\n",
       "      <td>20.000000</td>\n",
       "      <td>4.200000e+03</td>\n",
       "      <td>0.000000</td>\n",
       "      <td>500.000000</td>\n",
       "      <td>5.420000</td>\n",
       "      <td>0.000000</td>\n",
       "      <td>2.000000</td>\n",
       "      <td>0.000000</td>\n",
       "    </tr>\n",
       "    <tr>\n",
       "      <th>25%</th>\n",
       "      <td>23.000000</td>\n",
       "      <td>4.200000e+04</td>\n",
       "      <td>2.000000</td>\n",
       "      <td>5000.000000</td>\n",
       "      <td>7.880000</td>\n",
       "      <td>0.090000</td>\n",
       "      <td>3.000000</td>\n",
       "      <td>0.000000</td>\n",
       "    </tr>\n",
       "    <tr>\n",
       "      <th>50%</th>\n",
       "      <td>26.000000</td>\n",
       "      <td>5.800000e+04</td>\n",
       "      <td>4.000000</td>\n",
       "      <td>8000.000000</td>\n",
       "      <td>10.750000</td>\n",
       "      <td>0.140000</td>\n",
       "      <td>4.000000</td>\n",
       "      <td>0.000000</td>\n",
       "    </tr>\n",
       "    <tr>\n",
       "      <th>75%</th>\n",
       "      <td>30.000000</td>\n",
       "      <td>7.560000e+04</td>\n",
       "      <td>7.000000</td>\n",
       "      <td>12000.000000</td>\n",
       "      <td>12.990000</td>\n",
       "      <td>0.210000</td>\n",
       "      <td>8.000000</td>\n",
       "      <td>0.000000</td>\n",
       "    </tr>\n",
       "    <tr>\n",
       "      <th>max</th>\n",
       "      <td>123.000000</td>\n",
       "      <td>1.900000e+06</td>\n",
       "      <td>123.000000</td>\n",
       "      <td>35000.000000</td>\n",
       "      <td>23.220000</td>\n",
       "      <td>0.830000</td>\n",
       "      <td>30.000000</td>\n",
       "      <td>1.000000</td>\n",
       "    </tr>\n",
       "  </tbody>\n",
       "</table>\n",
       "</div>"
      ],
      "text/plain": [
       "         person_age  person_income  person_emp_length     loan_amnt  \\\n",
       "count  58645.000000   5.864500e+04       58645.000000  58645.000000   \n",
       "mean      27.550857   6.404617e+04           4.701015   9217.556518   \n",
       "std        6.033216   3.793111e+04           3.959784   5563.807384   \n",
       "min       20.000000   4.200000e+03           0.000000    500.000000   \n",
       "25%       23.000000   4.200000e+04           2.000000   5000.000000   \n",
       "50%       26.000000   5.800000e+04           4.000000   8000.000000   \n",
       "75%       30.000000   7.560000e+04           7.000000  12000.000000   \n",
       "max      123.000000   1.900000e+06         123.000000  35000.000000   \n",
       "\n",
       "       loan_int_rate  loan_percent_income  cb_person_cred_hist_length  \\\n",
       "count   58645.000000         58645.000000                58645.000000   \n",
       "mean       10.677874             0.159238                    5.813556   \n",
       "std         3.034697             0.091692                    4.029196   \n",
       "min         5.420000             0.000000                    2.000000   \n",
       "25%         7.880000             0.090000                    3.000000   \n",
       "50%        10.750000             0.140000                    4.000000   \n",
       "75%        12.990000             0.210000                    8.000000   \n",
       "max        23.220000             0.830000                   30.000000   \n",
       "\n",
       "        loan_status  \n",
       "count  58645.000000  \n",
       "mean       0.142382  \n",
       "std        0.349445  \n",
       "min        0.000000  \n",
       "25%        0.000000  \n",
       "50%        0.000000  \n",
       "75%        0.000000  \n",
       "max        1.000000  "
      ]
     },
     "execution_count": 8,
     "metadata": {},
     "output_type": "execute_result"
    }
   ],
   "source": [
    "data.describe()"
   ]
  },
  {
   "cell_type": "code",
   "execution_count": 9,
   "id": "113b6e6d",
   "metadata": {},
   "outputs": [
    {
     "data": {
      "text/plain": [
       "0"
      ]
     },
     "execution_count": 9,
     "metadata": {},
     "output_type": "execute_result"
    }
   ],
   "source": [
    "data.duplicated().sum()"
   ]
  },
  {
   "cell_type": "markdown",
   "id": "19baf5fb",
   "metadata": {},
   "source": [
    "No duplicates are there"
   ]
  },
  {
   "cell_type": "code",
   "execution_count": 10,
   "id": "7f129bd9",
   "metadata": {},
   "outputs": [
    {
     "data": {
      "text/plain": [
       "person_age                    0\n",
       "person_income                 0\n",
       "person_home_ownership         0\n",
       "person_emp_length             0\n",
       "loan_intent                   0\n",
       "loan_grade                    0\n",
       "loan_amnt                     0\n",
       "loan_int_rate                 0\n",
       "loan_percent_income           0\n",
       "cb_person_default_on_file     0\n",
       "cb_person_cred_hist_length    0\n",
       "loan_status                   0\n",
       "dtype: int64"
      ]
     },
     "execution_count": 10,
     "metadata": {},
     "output_type": "execute_result"
    }
   ],
   "source": [
    "data.isnull().sum()"
   ]
  },
  {
   "cell_type": "markdown",
   "id": "b5041e53",
   "metadata": {},
   "source": [
    "No missing values present"
   ]
  },
  {
   "cell_type": "code",
   "execution_count": 11,
   "id": "578817b1",
   "metadata": {},
   "outputs": [
    {
     "data": {
      "text/plain": [
       "['person_home_ownership',\n",
       " 'loan_intent',\n",
       " 'loan_grade',\n",
       " 'cb_person_default_on_file']"
      ]
     },
     "execution_count": 11,
     "metadata": {},
     "output_type": "execute_result"
    }
   ],
   "source": [
    "#changing the data type of object to int\n",
    "cat_type=[]\n",
    "for i in data.columns:\n",
    "    if data[i].dtypes==\"O\":\n",
    "        cat_type.append(i)\n",
    "cat_type"
   ]
  },
  {
   "cell_type": "code",
   "execution_count": 12,
   "id": "a94058e0",
   "metadata": {},
   "outputs": [
    {
     "data": {
      "text/plain": [
       "person_home_ownership\n",
       "RENT        30594\n",
       "MORTGAGE    24824\n",
       "OWN          3138\n",
       "OTHER          89\n",
       "Name: count, dtype: int64"
      ]
     },
     "execution_count": 12,
     "metadata": {},
     "output_type": "execute_result"
    }
   ],
   "source": [
    "data['person_home_ownership'].value_counts()"
   ]
  },
  {
   "cell_type": "code",
   "execution_count": 13,
   "id": "6416d97a",
   "metadata": {},
   "outputs": [],
   "source": [
    "\n",
    "data['person_home_ownership']=data['person_home_ownership'].map({'RENT':0,'MORTGAGE':1,'OWN':2,'OTHER':3})"
   ]
  },
  {
   "cell_type": "markdown",
   "id": "16987ed7",
   "metadata": {},
   "source": [
    "if in person_home_ownership any unknown value comes then put it in other"
   ]
  },
  {
   "cell_type": "code",
   "execution_count": 14,
   "id": "8a580ca2",
   "metadata": {},
   "outputs": [
    {
     "data": {
      "text/plain": [
       "loan_intent\n",
       "EDUCATION            12271\n",
       "MEDICAL              10934\n",
       "PERSONAL             10016\n",
       "VENTURE              10011\n",
       "DEBTCONSOLIDATION     9133\n",
       "HOMEIMPROVEMENT       6280\n",
       "Name: count, dtype: int64"
      ]
     },
     "execution_count": 14,
     "metadata": {},
     "output_type": "execute_result"
    }
   ],
   "source": [
    "data['loan_intent'].value_counts()"
   ]
  },
  {
   "cell_type": "code",
   "execution_count": 15,
   "id": "eef370da",
   "metadata": {},
   "outputs": [],
   "source": [
    "data['loan_intent']=data['loan_intent'].map({'EDUCATION':0,'MEDICAL':1,'PERSONAL':2,'VENTURE':3,'DEBTCONSOLIDATION':4,'HOMEIMPROVEMENT':5})"
   ]
  },
  {
   "cell_type": "markdown",
   "id": "22f176f5",
   "metadata": {},
   "source": [
    "If loan_intent have any unknown value then shift it to  personal section"
   ]
  },
  {
   "cell_type": "code",
   "execution_count": 16,
   "id": "34ce6f94",
   "metadata": {},
   "outputs": [
    {
     "data": {
      "text/plain": [
       "loan_grade\n",
       "A    20984\n",
       "B    20400\n",
       "C    11036\n",
       "D     5034\n",
       "E     1009\n",
       "F      149\n",
       "G       33\n",
       "Name: count, dtype: int64"
      ]
     },
     "execution_count": 16,
     "metadata": {},
     "output_type": "execute_result"
    }
   ],
   "source": [
    "data['loan_grade'].value_counts()"
   ]
  },
  {
   "cell_type": "code",
   "execution_count": 17,
   "id": "822ff252",
   "metadata": {},
   "outputs": [],
   "source": [
    "data['loan_grade']=data['loan_grade'].map({'unknown':0,'A':1,'B':2,'C':3,'D':4,'E':5,'F':6,'G':7})"
   ]
  },
  {
   "cell_type": "markdown",
   "id": "4c0ba25b",
   "metadata": {},
   "source": [
    "If any unknown comes in loan_grade then we shift it to unknown"
   ]
  },
  {
   "cell_type": "code",
   "execution_count": 18,
   "id": "64c06811",
   "metadata": {},
   "outputs": [
    {
     "data": {
      "text/plain": [
       "cb_person_default_on_file\n",
       "N    49943\n",
       "Y     8702\n",
       "Name: count, dtype: int64"
      ]
     },
     "execution_count": 18,
     "metadata": {},
     "output_type": "execute_result"
    }
   ],
   "source": [
    "data['cb_person_default_on_file'].value_counts()"
   ]
  },
  {
   "cell_type": "code",
   "execution_count": 19,
   "id": "dad691d4",
   "metadata": {},
   "outputs": [],
   "source": [
    "data['cb_person_default_on_file_NO']=data['cb_person_default_on_file'].map({'N':1,'Y':0})\n",
    "data['cb_person_default_on_file_YES']=data['cb_person_default_on_file'].map({'Y':1,'N':0})\n",
    "data.drop('cb_person_default_on_file',axis=1,inplace=True)"
   ]
  },
  {
   "cell_type": "markdown",
   "id": "93382e23",
   "metadata": {},
   "source": [
    "If any missing value comes then it is no"
   ]
  },
  {
   "cell_type": "code",
   "execution_count": 20,
   "id": "42c9a615",
   "metadata": {},
   "outputs": [
    {
     "name": "stdout",
     "output_type": "stream",
     "text": [
      "<class 'pandas.core.frame.DataFrame'>\n",
      "RangeIndex: 58645 entries, 0 to 58644\n",
      "Data columns (total 13 columns):\n",
      " #   Column                         Non-Null Count  Dtype  \n",
      "---  ------                         --------------  -----  \n",
      " 0   person_age                     58645 non-null  int64  \n",
      " 1   person_income                  58645 non-null  int64  \n",
      " 2   person_home_ownership          58645 non-null  int64  \n",
      " 3   person_emp_length              58645 non-null  float64\n",
      " 4   loan_intent                    58645 non-null  int64  \n",
      " 5   loan_grade                     58645 non-null  int64  \n",
      " 6   loan_amnt                      58645 non-null  int64  \n",
      " 7   loan_int_rate                  58645 non-null  float64\n",
      " 8   loan_percent_income            58645 non-null  float64\n",
      " 9   cb_person_cred_hist_length     58645 non-null  int64  \n",
      " 10  loan_status                    58645 non-null  int64  \n",
      " 11  cb_person_default_on_file_NO   58645 non-null  int64  \n",
      " 12  cb_person_default_on_file_YES  58645 non-null  int64  \n",
      "dtypes: float64(3), int64(10)\n",
      "memory usage: 5.8 MB\n"
     ]
    }
   ],
   "source": [
    "data.info()"
   ]
  },
  {
   "cell_type": "code",
   "execution_count": 21,
   "id": "bf1b7d84",
   "metadata": {},
   "outputs": [],
   "source": [
    "import matplotlib.pyplot as plt\n",
    "import seaborn as sns"
   ]
  },
  {
   "cell_type": "code",
   "execution_count": 22,
   "id": "ae2dac01",
   "metadata": {},
   "outputs": [
    {
     "data": {
      "image/png": "[encoded data removed]",
      "text/plain": [
       "<Figure size 2000x4000 with 12 Axes>"
      ]
     },
     "metadata": {},
     "output_type": "display_data"
    }
   ],
   "source": [
    "#for outlier\n",
    "fig,axes = plt.subplots(6,2,figsize=(20,40),sharey=True)\n",
    "k=0\n",
    "for i in range(6):\n",
    "    for j in range(2):\n",
    "        sns.boxplot(x=data.columns[k],data=data,ax=axes[i][j])\n",
    "        plt.plot()\n",
    "        k+=1"
   ]
  },
  {
   "cell_type": "markdown",
   "id": "5198f66c",
   "metadata": {},
   "source": [
    "Outliers is present in some of the columns "
   ]
  },
  {
   "cell_type": "code",
   "execution_count": 23,
   "id": "4c1d085b",
   "metadata": {},
   "outputs": [],
   "source": [
    "outliers_present=['person_income','person_emp_length','loan_amnt','loan_int_rate','loan_percent_income','cb_person_cred_hist_length']"
   ]
  },
  {
   "cell_type": "code",
   "execution_count": 24,
   "id": "e25368fa",
   "metadata": {},
   "outputs": [],
   "source": [
    "#using iqr for outlier deletion\n",
    "import numpy as np\n",
    "for i in outliers_present:\n",
    "    q1=data[i].quantile(0.25)\n",
    "    q3=data[i].quantile(0.75)\n",
    "    iqr=q3-q1\n",
    "    maximum=q3+1.5*iqr\n",
    "    minimum=q1-1.5*iqr\n",
    "    \n",
    "    data[i]= np.where(data[i]>=maximum,data[i].median(),data[i])\n",
    "    data[i]= np.where(data[i]<=minimum,data[i].median(),data[i])\n",
    "    "
   ]
  },
  {
   "cell_type": "code",
   "execution_count": 25,
   "id": "eecb137a",
   "metadata": {},
   "outputs": [],
   "source": [
    "#if age>100 then we are taking it till 100\n",
    "data['person_age']=np.where(data['person_age']>100,100,data['person_age'])\n"
   ]
  },
  {
   "cell_type": "code",
   "execution_count": 26,
   "id": "9f3cb399",
   "metadata": {},
   "outputs": [
    {
     "data": {
      "image/png": "[encoded data removed]",
      "text/plain": [
       "<Figure size 2000x4000 with 12 Axes>"
      ]
     },
     "metadata": {},
     "output_type": "display_data"
    }
   ],
   "source": [
    "#for outlier\n",
    "fig,axes = plt.subplots(6,2,figsize=(20,40),sharey=True)\n",
    "k=0\n",
    "for i in range(6):\n",
    "    for j in range(2):\n",
    "        sns.boxplot(x=data.columns[k],data=data,ax=axes[i][j])\n",
    "        plt.plot()\n",
    "        k+=1"
   ]
  },
  {
   "cell_type": "code",
   "execution_count": 27,
   "id": "a2ff9ff6",
   "metadata": {},
   "outputs": [],
   "source": [
    "# to noramlize the clumns\n",
    "noramlize_col=['loan_amnt','person_income']\n",
    "for i in noramlize_col:\n",
    "    data[i]=(data[i]-(data[i].min()))/(data[i].max()-data[i].min())"
   ]
  },
  {
   "cell_type": "code",
   "execution_count": 28,
   "id": "ae44bb63",
   "metadata": {},
   "outputs": [
    {
     "data": {
      "text/html": [
       "<div>\n",
       "<style scoped>\n",
       "    .dataframe tbody tr th:only-of-type {\n",
       "        vertical-align: middle;\n",
       "    }\n",
       "\n",
       "    .dataframe tbody tr th {\n",
       "        vertical-align: top;\n",
       "    }\n",
       "\n",
       "    .dataframe thead th {\n",
       "        text-align: right;\n",
       "    }\n",
       "</style>\n",
       "<table border=\"1\" class=\"dataframe\">\n",
       "  <thead>\n",
       "    <tr style=\"text-align: right;\">\n",
       "      <th></th>\n",
       "      <th>person_age</th>\n",
       "      <th>person_income</th>\n",
       "      <th>person_home_ownership</th>\n",
       "      <th>person_emp_length</th>\n",
       "      <th>loan_intent</th>\n",
       "      <th>loan_grade</th>\n",
       "      <th>loan_amnt</th>\n",
       "      <th>loan_int_rate</th>\n",
       "      <th>loan_percent_income</th>\n",
       "      <th>cb_person_cred_hist_length</th>\n",
       "      <th>loan_status</th>\n",
       "      <th>cb_person_default_on_file_NO</th>\n",
       "      <th>cb_person_default_on_file_YES</th>\n",
       "    </tr>\n",
       "  </thead>\n",
       "  <tbody>\n",
       "    <tr>\n",
       "      <th>count</th>\n",
       "      <td>58645.000000</td>\n",
       "      <td>58645.000000</td>\n",
       "      <td>58645.000000</td>\n",
       "      <td>58645.000000</td>\n",
       "      <td>58645.000000</td>\n",
       "      <td>58645.000000</td>\n",
       "      <td>58645.000000</td>\n",
       "      <td>58645.000000</td>\n",
       "      <td>58645.000000</td>\n",
       "      <td>58645.000000</td>\n",
       "      <td>58645.000000</td>\n",
       "      <td>58645.000000</td>\n",
       "      <td>58645.000000</td>\n",
       "    </tr>\n",
       "    <tr>\n",
       "      <th>mean</th>\n",
       "      <td>27.550465</td>\n",
       "      <td>0.453960</td>\n",
       "      <td>0.534862</td>\n",
       "      <td>4.405695</td>\n",
       "      <td>2.198499</td>\n",
       "      <td>2.066638</td>\n",
       "      <td>0.369622</td>\n",
       "      <td>10.671729</td>\n",
       "      <td>0.152588</td>\n",
       "      <td>5.329065</td>\n",
       "      <td>0.142382</td>\n",
       "      <td>0.851616</td>\n",
       "      <td>0.148384</td>\n",
       "    </tr>\n",
       "    <tr>\n",
       "      <th>std</th>\n",
       "      <td>6.027756</td>\n",
       "      <td>0.190413</td>\n",
       "      <td>0.604081</td>\n",
       "      <td>3.378671</td>\n",
       "      <td>1.655736</td>\n",
       "      <td>1.046181</td>\n",
       "      <td>0.207535</td>\n",
       "      <td>3.023759</td>\n",
       "      <td>0.081595</td>\n",
       "      <td>3.226315</td>\n",
       "      <td>0.349445</td>\n",
       "      <td>0.355484</td>\n",
       "      <td>0.355484</td>\n",
       "    </tr>\n",
       "    <tr>\n",
       "      <th>min</th>\n",
       "      <td>20.000000</td>\n",
       "      <td>0.000000</td>\n",
       "      <td>0.000000</td>\n",
       "      <td>0.000000</td>\n",
       "      <td>0.000000</td>\n",
       "      <td>1.000000</td>\n",
       "      <td>0.000000</td>\n",
       "      <td>5.420000</td>\n",
       "      <td>0.000000</td>\n",
       "      <td>2.000000</td>\n",
       "      <td>0.000000</td>\n",
       "      <td>0.000000</td>\n",
       "      <td>0.000000</td>\n",
       "    </tr>\n",
       "    <tr>\n",
       "      <th>25%</th>\n",
       "      <td>23.000000</td>\n",
       "      <td>0.310855</td>\n",
       "      <td>0.000000</td>\n",
       "      <td>2.000000</td>\n",
       "      <td>1.000000</td>\n",
       "      <td>1.000000</td>\n",
       "      <td>0.205479</td>\n",
       "      <td>7.880000</td>\n",
       "      <td>0.090000</td>\n",
       "      <td>3.000000</td>\n",
       "      <td>0.000000</td>\n",
       "      <td>1.000000</td>\n",
       "      <td>0.000000</td>\n",
       "    </tr>\n",
       "    <tr>\n",
       "      <th>50%</th>\n",
       "      <td>26.000000</td>\n",
       "      <td>0.442434</td>\n",
       "      <td>0.000000</td>\n",
       "      <td>4.000000</td>\n",
       "      <td>2.000000</td>\n",
       "      <td>2.000000</td>\n",
       "      <td>0.342466</td>\n",
       "      <td>10.750000</td>\n",
       "      <td>0.140000</td>\n",
       "      <td>4.000000</td>\n",
       "      <td>0.000000</td>\n",
       "      <td>1.000000</td>\n",
       "      <td>0.000000</td>\n",
       "    </tr>\n",
       "    <tr>\n",
       "      <th>75%</th>\n",
       "      <td>30.000000</td>\n",
       "      <td>0.557566</td>\n",
       "      <td>1.000000</td>\n",
       "      <td>6.000000</td>\n",
       "      <td>4.000000</td>\n",
       "      <td>3.000000</td>\n",
       "      <td>0.525114</td>\n",
       "      <td>12.990000</td>\n",
       "      <td>0.200000</td>\n",
       "      <td>7.000000</td>\n",
       "      <td>0.000000</td>\n",
       "      <td>1.000000</td>\n",
       "      <td>0.000000</td>\n",
       "    </tr>\n",
       "    <tr>\n",
       "      <th>max</th>\n",
       "      <td>100.000000</td>\n",
       "      <td>1.000000</td>\n",
       "      <td>3.000000</td>\n",
       "      <td>14.000000</td>\n",
       "      <td>5.000000</td>\n",
       "      <td>7.000000</td>\n",
       "      <td>1.000000</td>\n",
       "      <td>20.620000</td>\n",
       "      <td>0.384000</td>\n",
       "      <td>15.000000</td>\n",
       "      <td>1.000000</td>\n",
       "      <td>1.000000</td>\n",
       "      <td>1.000000</td>\n",
       "    </tr>\n",
       "  </tbody>\n",
       "</table>\n",
       "</div>"
      ],
      "text/plain": [
       "         person_age  person_income  person_home_ownership  person_emp_length  \\\n",
       "count  58645.000000   58645.000000           58645.000000       58645.000000   \n",
       "mean      27.550465       0.453960               0.534862           4.405695   \n",
       "std        6.027756       0.190413               0.604081           3.378671   \n",
       "min       20.000000       0.000000               0.000000           0.000000   \n",
       "25%       23.000000       0.310855               0.000000           2.000000   \n",
       "50%       26.000000       0.442434               0.000000           4.000000   \n",
       "75%       30.000000       0.557566               1.000000           6.000000   \n",
       "max      100.000000       1.000000               3.000000          14.000000   \n",
       "\n",
       "        loan_intent    loan_grade     loan_amnt  loan_int_rate  \\\n",
       "count  58645.000000  58645.000000  58645.000000   58645.000000   \n",
       "mean       2.198499      2.066638      0.369622      10.671729   \n",
       "std        1.655736      1.046181      0.207535       3.023759   \n",
       "min        0.000000      1.000000      0.000000       5.420000   \n",
       "25%        1.000000      1.000000      0.205479       7.880000   \n",
       "50%        2.000000      2.000000      0.342466      10.750000   \n",
       "75%        4.000000      3.000000      0.525114      12.990000   \n",
       "max        5.000000      7.000000      1.000000      20.620000   \n",
       "\n",
       "       loan_percent_income  cb_person_cred_hist_length   loan_status  \\\n",
       "count         58645.000000                58645.000000  58645.000000   \n",
       "mean              0.152588                    5.329065      0.142382   \n",
       "std               0.081595                    3.226315      0.349445   \n",
       "min               0.000000                    2.000000      0.000000   \n",
       "25%               0.090000                    3.000000      0.000000   \n",
       "50%               0.140000                    4.000000      0.000000   \n",
       "75%               0.200000                    7.000000      0.000000   \n",
       "max               0.384000                   15.000000      1.000000   \n",
       "\n",
       "       cb_person_default_on_file_NO  cb_person_default_on_file_YES  \n",
       "count                  58645.000000                   58645.000000  \n",
       "mean                       0.851616                       0.148384  \n",
       "std                        0.355484                       0.355484  \n",
       "min                        0.000000                       0.000000  \n",
       "25%                        1.000000                       0.000000  \n",
       "50%                        1.000000                       0.000000  \n",
       "75%                        1.000000                       0.000000  \n",
       "max                        1.000000                       1.000000  "
      ]
     },
     "execution_count": 28,
     "metadata": {},
     "output_type": "execute_result"
    }
   ],
   "source": [
    "data.describe()"
   ]
  },
  {
   "cell_type": "code",
   "execution_count": 29,
   "id": "b2013352",
   "metadata": {},
   "outputs": [],
   "source": [
    "y=data['loan_status']\n",
    "x=data.drop('loan_status',axis=1)"
   ]
  },
  {
   "cell_type": "code",
   "execution_count": 30,
   "id": "fcb2dab4",
   "metadata": {},
   "outputs": [
    {
     "data": {
      "text/plain": [
       "loan_status                      1.000000\n",
       "loan_grade                       0.385908\n",
       "loan_int_rate                    0.337236\n",
       "loan_percent_income              0.284882\n",
       "cb_person_default_on_file_YES    0.186962\n",
       "loan_amnt                        0.116829\n",
       "loan_intent                      0.041541\n",
       "person_age                      -0.001104\n",
       "cb_person_cred_hist_length      -0.011838\n",
       "person_emp_length               -0.111882\n",
       "cb_person_default_on_file_NO    -0.186962\n",
       "person_income                   -0.213533\n",
       "person_home_ownership           -0.230392\n",
       "Name: loan_status, dtype: float64"
      ]
     },
     "execution_count": 30,
     "metadata": {},
     "output_type": "execute_result"
    }
   ],
   "source": [
    "#now finding correlation of the data\n",
    "coerr=data.corr()\n",
    "coerr['loan_status'].sort_values(ascending=False)"
   ]
  },
  {
   "cell_type": "code",
   "execution_count": 31,
   "id": "926ac859",
   "metadata": {},
   "outputs": [
    {
     "data": {
      "image/png": "[encoded data removed]",
      "text/plain": [
       "<Figure size 2000x4000 with 12 Axes>"
      ]
     },
     "metadata": {},
     "output_type": "display_data"
    }
   ],
   "source": [
    "#reg_plot\n",
    "fig,axes=plt.subplots(6,2,figsize=(20,40),sharey=True)\n",
    "k=0\n",
    "for i in range(6):\n",
    "    for j in range(2):\n",
    "        sns.regplot(x=x.columns[k],y=y,data=data,ax=axes[i][j])\n",
    "        plt.plot()\n",
    "        k+=1"
   ]
  },
  {
   "cell_type": "code",
   "execution_count": 32,
   "id": "d0cac335",
   "metadata": {},
   "outputs": [
    {
     "data": {
      "text/plain": [
       "loan_status\n",
       "0    50295\n",
       "1     8350\n",
       "Name: count, dtype: int64"
      ]
     },
     "execution_count": 32,
     "metadata": {},
     "output_type": "execute_result"
    }
   ],
   "source": [
    "y.value_counts()"
   ]
  },
  {
   "cell_type": "code",
   "execution_count": 33,
   "id": "468d3e74",
   "metadata": {},
   "outputs": [],
   "source": [
    "#now we can notice that thhere is not aproper distribution of yes over no so data is imbalanced then making imbalanced data balanced\n",
    "from imblearn.over_sampling import SMOTE\n",
    "smote=SMOTE()\n",
    "x,y=smote.fit_resample(x,y)"
   ]
  },
  {
   "cell_type": "code",
   "execution_count": 34,
   "id": "dce51c20",
   "metadata": {},
   "outputs": [
    {
     "data": {
      "text/plain": [
       "loan_status\n",
       "0    50295\n",
       "1    50295\n",
       "Name: count, dtype: int64"
      ]
     },
     "execution_count": 34,
     "metadata": {},
     "output_type": "execute_result"
    }
   ],
   "source": [
    "y.value_counts()"
   ]
  },
  {
   "cell_type": "code",
   "execution_count": 35,
   "id": "281511a2",
   "metadata": {},
   "outputs": [
    {
     "data": {
      "text/plain": [
       "(100590, 12)"
      ]
     },
     "execution_count": 35,
     "metadata": {},
     "output_type": "execute_result"
    }
   ],
   "source": [
    "x.shape"
   ]
  },
  {
   "cell_type": "code",
   "execution_count": 36,
   "id": "3b538fa7",
   "metadata": {},
   "outputs": [],
   "source": [
    "#now making test and train\n",
    "from sklearn.model_selection import train_test_split\n",
    "x_train,x_test,y_train,y_test=train_test_split(x,y,test_size=0.33,random_state=42)"
   ]
  },
  {
   "cell_type": "code",
   "execution_count": 37,
   "id": "9ad4b193",
   "metadata": {},
   "outputs": [
    {
     "data": {
      "text/plain": [
       "67395"
      ]
     },
     "execution_count": 37,
     "metadata": {},
     "output_type": "execute_result"
    }
   ],
   "source": [
    "y_train.size"
   ]
  },
  {
   "cell_type": "code",
   "execution_count": 38,
   "id": "e7d1a8c0",
   "metadata": {},
   "outputs": [
    {
     "data": {
      "text/plain": [
       "33195"
      ]
     },
     "execution_count": 38,
     "metadata": {},
     "output_type": "execute_result"
    }
   ],
   "source": [
    "y_test.size"
   ]
  },
  {
   "cell_type": "code",
   "execution_count": 39,
   "id": "9891bd6b",
   "metadata": {},
   "outputs": [],
   "source": [
    "from sklearn.metrics import accuracy_score,confusion_matrix,precision_score,recall_score"
   ]
  },
  {
   "cell_type": "code",
   "execution_count": 40,
   "id": "aa852bf1",
   "metadata": {},
   "outputs": [],
   "source": [
    "#now fitting model to see the results\n",
    "def check(model):\n",
    "    y_pred=model.predict(x_test)\n",
    "    print(\"the confusion matrix: \", confusion_matrix(y_test,y_pred))\n",
    "    print(\"the precision score: \", precision_score(y_test,y_pred))\n",
    "    print(\"the recall score \",recall_score(y_test,y_pred))\n",
    "    print(\"the accuracy score: \",accuracy_score(y_test,y_pred))"
   ]
  },
  {
   "cell_type": "code",
   "execution_count": 41,
   "id": "d2e26fc7",
   "metadata": {},
   "outputs": [],
   "source": [
    "from warnings import filterwarnings\n",
    "filterwarnings(\"ignore\")"
   ]
  },
  {
   "cell_type": "code",
   "execution_count": 42,
   "id": "97c4a4f4",
   "metadata": {},
   "outputs": [
    {
     "name": "stdout",
     "output_type": "stream",
     "text": [
      "the confusion matrix:  [[13090  3599]\n",
      " [ 2817 13689]]\n",
      "the precision score:  0.7918209162424803\n",
      "the recall score  0.8293347873500545\n",
      "the accuracy score:  0.8067178791986745\n"
     ]
    }
   ],
   "source": [
    "from sklearn.linear_model import LogisticRegressionCV\n",
    "check(LogisticRegressionCV().fit(x_train,y_train))"
   ]
  },
  {
   "cell_type": "code",
   "execution_count": 43,
   "id": "00ea1053",
   "metadata": {},
   "outputs": [
    {
     "name": "stdout",
     "output_type": "stream",
     "text": [
      "the confusion matrix:  [[ 9190  7499]\n",
      " [ 2784 13722]]\n",
      "the precision score:  0.6466236275387588\n",
      "the recall score  0.8313340603416939\n",
      "the accuracy score:  0.6902244313902696\n"
     ]
    }
   ],
   "source": [
    "from sklearn.naive_bayes import BernoulliNB\n",
    "check(BernoulliNB().fit(x_train,y_train))"
   ]
  },
  {
   "cell_type": "code",
   "execution_count": 44,
   "id": "d47b368f",
   "metadata": {},
   "outputs": [
    {
     "name": "stdout",
     "output_type": "stream",
     "text": [
      "the confusion matrix:  [[13290  3399]\n",
      " [ 3543 12963]]\n",
      "the precision score:  0.7922625595892923\n",
      "the recall score  0.7853507815339876\n",
      "the accuracy score:  0.7908721192950745\n"
     ]
    }
   ],
   "source": [
    "from sklearn.naive_bayes import GaussianNB\n",
    "check(GaussianNB().fit(x_train,y_train))"
   ]
  },
  {
   "cell_type": "code",
   "execution_count": 45,
   "id": "82927830",
   "metadata": {},
   "outputs": [
    {
     "name": "stdout",
     "output_type": "stream",
     "text": [
      "the confusion matrix:  [[13787  2902]\n",
      " [ 1571 14935]]\n",
      "the precision score:  0.8373044794528228\n",
      "the recall score  0.9048224887919545\n",
      "the accuracy score:  0.8652507907817443\n"
     ]
    }
   ],
   "source": [
    "from sklearn.neighbors import KNeighborsClassifier\n",
    "check(KNeighborsClassifier(4).fit(x_train,y_train))"
   ]
  },
  {
   "cell_type": "code",
   "execution_count": 46,
   "id": "7c14094a",
   "metadata": {},
   "outputs": [
    {
     "name": "stdout",
     "output_type": "stream",
     "text": [
      "the confusion matrix:  [[15293  1396]\n",
      " [ 1314 15192]]\n",
      "the precision score:  0.9158427779117434\n",
      "the recall score  0.920392584514722\n",
      "the accuracy score:  0.9183611989757493\n"
     ]
    }
   ],
   "source": [
    "from sklearn.tree import DecisionTreeClassifier\n",
    "check(DecisionTreeClassifier().fit(x_train,y_train))"
   ]
  },
  {
   "cell_type": "code",
   "execution_count": 47,
   "id": "07925c48",
   "metadata": {},
   "outputs": [
    {
     "name": "stdout",
     "output_type": "stream",
     "text": [
      "the confusion matrix:  [[14291  2398]\n",
      " [ 2202 14304]]\n",
      "the precision score:  0.8564243803137349\n",
      "the recall score  0.8665939658306071\n",
      "the accuracy score:  0.8614249133905709\n"
     ]
    }
   ],
   "source": [
    "from sklearn.tree import ExtraTreeClassifier\n",
    "check(ExtraTreeClassifier().fit(x_train,y_train))"
   ]
  },
  {
   "cell_type": "code",
   "execution_count": 48,
   "id": "37e303a3",
   "metadata": {},
   "outputs": [
    {
     "name": "stdout",
     "output_type": "stream",
     "text": [
      "the confusion matrix:  [[14283  2406]\n",
      " [ 2293 14213]]\n",
      "the precision score:  0.8552259462061496\n",
      "the recall score  0.8610808190960862\n",
      "the accuracy score:  0.8584425365265853\n"
     ]
    }
   ],
   "source": [
    "from sklearn.ensemble import AdaBoostClassifier\n",
    "check(AdaBoostClassifier().fit(x_train,y_train))"
   ]
  },
  {
   "cell_type": "code",
   "execution_count": 49,
   "id": "03abc0bd",
   "metadata": {},
   "outputs": [
    {
     "name": "stdout",
     "output_type": "stream",
     "text": [
      "the confusion matrix:  [[16152   537]\n",
      " [ 1361 15145]]\n",
      "the precision score:  0.9657569187603622\n",
      "the recall score  0.917545135102387\n",
      "the accuracy score:  0.9428227142641964\n"
     ]
    }
   ],
   "source": [
    "from sklearn.ensemble import BaggingClassifier\n",
    "check(BaggingClassifier().fit(x_train,y_train))"
   ]
  },
  {
   "cell_type": "code",
   "execution_count": 50,
   "id": "04f98de8",
   "metadata": {},
   "outputs": [
    {
     "name": "stdout",
     "output_type": "stream",
     "text": [
      "the confusion matrix:  [[15118  1571]\n",
      " [ 1870 14636]]\n",
      "the precision score:  0.9030665761707904\n",
      "the recall score  0.8867078638071004\n",
      "the accuracy score:  0.8963398102123814\n"
     ]
    }
   ],
   "source": [
    "from sklearn.ensemble import GradientBoostingClassifier\n",
    "check(GradientBoostingClassifier().fit(x_train,y_train))"
   ]
  },
  {
   "cell_type": "code",
   "execution_count": 51,
   "id": "6038eb7c",
   "metadata": {},
   "outputs": [
    {
     "name": "stdout",
     "output_type": "stream",
     "text": [
      "the confusion matrix:  [[16183   506]\n",
      " [ 1136 15370]]\n",
      "the precision score:  0.9681279919375158\n",
      "the recall score  0.9311765418635648\n",
      "the accuracy score:  0.9505347190841994\n"
     ]
    }
   ],
   "source": [
    "from sklearn.ensemble import HistGradientBoostingClassifier\n",
    "check(HistGradientBoostingClassifier().fit(x_train,y_train))"
   ]
  },
  {
   "cell_type": "code",
   "execution_count": 52,
   "id": "33eb66f8",
   "metadata": {},
   "outputs": [
    {
     "name": "stdout",
     "output_type": "stream",
     "text": [
      "the confusion matrix:  [[15977   712]\n",
      " [ 1139 15367]]\n",
      "the precision score:  0.9557186392188569\n",
      "the recall score  0.9309947897734158\n",
      "the accuracy score:  0.9442385901491188\n"
     ]
    }
   ],
   "source": [
    "from sklearn.ensemble import RandomForestClassifier\n",
    "check(RandomForestClassifier().fit(x_train,y_train))"
   ]
  },
  {
   "cell_type": "code",
   "execution_count": 127,
   "id": "84faa205",
   "metadata": {},
   "outputs": [
    {
     "name": "stdout",
     "output_type": "stream",
     "text": [
      "the confusion matrix:  [[16322   367]\n",
      " [  950 15556]]\n",
      "the precision score:  0.9769515794762293\n",
      "the recall score  0.942445171452805\n",
      "the accuracy score:  0.9603253502033439\n"
     ]
    }
   ],
   "source": [
    "from xgboost import XGBClassifier\n",
    "check(XGBClassifier(objective='binary:logistic', random_state=42).fit(x_train,y_train))"
   ]
  },
  {
   "cell_type": "code",
   "execution_count": 183,
   "id": "421ccd57",
   "metadata": {},
   "outputs": [],
   "source": [
    "from sklearn.model_selection import RandomizedSearchCV"
   ]
  },
  {
   "cell_type": "code",
   "execution_count": 184,
   "id": "746847f2",
   "metadata": {},
   "outputs": [
    {
     "name": "stdout",
     "output_type": "stream",
     "text": [
      "Fitting 3 folds for each of 200 candidates, totalling 600 fits\n"
     ]
    },
    {
     "data": {
      "text/html": [
       "<style>#sk-container-id-3 {color: black;background-color: white;}#sk-container-id-3 pre{padding: 0;}#sk-container-id-3 div.sk-toggleable {background-color: white;}#sk-container-id-3 label.sk-toggleable__label {cursor: pointer;display: block;width: 100%;margin-bottom: 0;padding: 0.3em;box-sizing: border-box;text-align: center;}#sk-container-id-3 label.sk-toggleable__label-arrow:before {content: \"▸\";float: left;margin-right: 0.25em;color: #696969;}#sk-container-id-3 label.sk-toggleable__label-arrow:hover:before {color: black;}#sk-container-id-3 div.sk-estimator:hover label.sk-toggleable__label-arrow:before {color: black;}#sk-container-id-3 div.sk-toggleable__content {max-height: 0;max-width: 0;overflow: hidden;text-align: left;background-color: #f0f8ff;}#sk-container-id-3 div.sk-toggleable__content pre {margin: 0.2em;color: black;border-radius: 0.25em;background-color: #f0f8ff;}#sk-container-id-3 input.sk-toggleable__control:checked~div.sk-toggleable__content {max-height: 200px;max-width: 100%;overflow: auto;}#sk-container-id-3 input.sk-toggleable__control:checked~label.sk-toggleable__label-arrow:before {content: \"▾\";}#sk-container-id-3 div.sk-estimator input.sk-toggleable__control:checked~label.sk-toggleable__label {background-color: #d4ebff;}#sk-container-id-3 div.sk-label input.sk-toggleable__control:checked~label.sk-toggleable__label {background-color: #d4ebff;}#sk-container-id-3 input.sk-hidden--visually {border: 0;clip: rect(1px 1px 1px 1px);clip: rect(1px, 1px, 1px, 1px);height: 1px;margin: -1px;overflow: hidden;padding: 0;position: absolute;width: 1px;}#sk-container-id-3 div.sk-estimator {font-family: monospace;background-color: #f0f8ff;border: 1px dotted black;border-radius: 0.25em;box-sizing: border-box;margin-bottom: 0.5em;}#sk-container-id-3 div.sk-estimator:hover {background-color: #d4ebff;}#sk-container-id-3 div.sk-parallel-item::after {content: \"\";width: 100%;border-bottom: 1px solid gray;flex-grow: 1;}#sk-container-id-3 div.sk-label:hover label.sk-toggleable__label {background-color: #d4ebff;}#sk-container-id-3 div.sk-serial::before {content: \"\";position: absolute;border-left: 1px solid gray;box-sizing: border-box;top: 0;bottom: 0;left: 50%;z-index: 0;}#sk-container-id-3 div.sk-serial {display: flex;flex-direction: column;align-items: center;background-color: white;padding-right: 0.2em;padding-left: 0.2em;position: relative;}#sk-container-id-3 div.sk-item {position: relative;z-index: 1;}#sk-container-id-3 div.sk-parallel {display: flex;align-items: stretch;justify-content: center;background-color: white;position: relative;}#sk-container-id-3 div.sk-item::before, #sk-container-id-3 div.sk-parallel-item::before {content: \"\";position: absolute;border-left: 1px solid gray;box-sizing: border-box;top: 0;bottom: 0;left: 50%;z-index: -1;}#sk-container-id-3 div.sk-parallel-item {display: flex;flex-direction: column;z-index: 1;position: relative;background-color: white;}#sk-container-id-3 div.sk-parallel-item:first-child::after {align-self: flex-end;width: 50%;}#sk-container-id-3 div.sk-parallel-item:last-child::after {align-self: flex-start;width: 50%;}#sk-container-id-3 div.sk-parallel-item:only-child::after {width: 0;}#sk-container-id-3 div.sk-dashed-wrapped {border: 1px dashed gray;margin: 0 0.4em 0.5em 0.4em;box-sizing: border-box;padding-bottom: 0.4em;background-color: white;}#sk-container-id-3 div.sk-label label {font-family: monospace;font-weight: bold;display: inline-block;line-height: 1.2em;}#sk-container-id-3 div.sk-label-container {text-align: center;}#sk-container-id-3 div.sk-container {/* jupyter's `normalize.less` sets `[hidden] { display: none; }` but bootstrap.min.css set `[hidden] { display: none !important; }` so we also need the `!important` here to be able to override the default hidden behavior on the sphinx rendered scikit-learn.org. See: https://github.com/scikit-learn/scikit-learn/issues/21755 */display: inline-block !important;position: relative;}#sk-container-id-3 div.sk-text-repr-fallback {display: none;}</style><div id=\"sk-container-id-3\" class=\"sk-top-container\"><div class=\"sk-text-repr-fallback\"><pre>RandomizedSearchCV(cv=3,\n",
       "                   estimator=XGBClassifier(base_score=None, booster=None,\n",
       "                                           callbacks=None,\n",
       "                                           colsample_bylevel=None,\n",
       "                                           colsample_bynode=None,\n",
       "                                           colsample_bytree=None, device=None,\n",
       "                                           early_stopping_rounds=None,\n",
       "                                           enable_categorical=False,\n",
       "                                           eval_metric=None, feature_types=None,\n",
       "                                           gamma=None, grow_policy=None,\n",
       "                                           importance_type=None,\n",
       "                                           interaction_constraints=None,\n",
       "                                           learning_rate...\n",
       "       360, 370, 380, 390, 400, 410, 420, 430, 440, 450, 460, 470, 480,\n",
       "       490, 500, 510, 520, 530, 540, 550, 560, 570, 580, 590, 600, 610,\n",
       "       620, 630, 640, 650, 660, 670, 680, 690, 700, 710, 720, 730, 740,\n",
       "       750, 760, 770, 780, 790, 800, 810, 820, 830, 840, 850, 860, 870,\n",
       "       880, 890, 900, 910, 920, 930, 940, 950, 960, 970, 980, 990]),\n",
       "                                        &#x27;subsample&#x27;: array([0.5 , 0.55, 0.6 , 0.65, 0.7 , 0.75, 0.8 , 0.85, 0.9 , 0.95, 1.  ,\n",
       "       1.05, 1.1 ])},\n",
       "                   random_state=42, scoring=&#x27;roc_auc&#x27;, verbose=1)</pre><b>In a Jupyter environment, please rerun this cell to show the HTML representation or trust the notebook. <br />On GitHub, the HTML representation is unable to render, please try loading this page with nbviewer.org.</b></div><div class=\"sk-container\" hidden><div class=\"sk-item sk-dashed-wrapped\"><div class=\"sk-label-container\"><div class=\"sk-label sk-toggleable\"><input class=\"sk-toggleable__control sk-hidden--visually\" id=\"sk-estimator-id-5\" type=\"checkbox\" ><label for=\"sk-estimator-id-5\" class=\"sk-toggleable__label sk-toggleable__label-arrow\">RandomizedSearchCV</label><div class=\"sk-toggleable__content\"><pre>RandomizedSearchCV(cv=3,\n",
       "                   estimator=XGBClassifier(base_score=None, booster=None,\n",
       "                                           callbacks=None,\n",
       "                                           colsample_bylevel=None,\n",
       "                                           colsample_bynode=None,\n",
       "                                           colsample_bytree=None, device=None,\n",
       "                                           early_stopping_rounds=None,\n",
       "                                           enable_categorical=False,\n",
       "                                           eval_metric=None, feature_types=None,\n",
       "                                           gamma=None, grow_policy=None,\n",
       "                                           importance_type=None,\n",
       "                                           interaction_constraints=None,\n",
       "                                           learning_rate...\n",
       "       360, 370, 380, 390, 400, 410, 420, 430, 440, 450, 460, 470, 480,\n",
       "       490, 500, 510, 520, 530, 540, 550, 560, 570, 580, 590, 600, 610,\n",
       "       620, 630, 640, 650, 660, 670, 680, 690, 700, 710, 720, 730, 740,\n",
       "       750, 760, 770, 780, 790, 800, 810, 820, 830, 840, 850, 860, 870,\n",
       "       880, 890, 900, 910, 920, 930, 940, 950, 960, 970, 980, 990]),\n",
       "                                        &#x27;subsample&#x27;: array([0.5 , 0.55, 0.6 , 0.65, 0.7 , 0.75, 0.8 , 0.85, 0.9 , 0.95, 1.  ,\n",
       "       1.05, 1.1 ])},\n",
       "                   random_state=42, scoring=&#x27;roc_auc&#x27;, verbose=1)</pre></div></div></div><div class=\"sk-parallel\"><div class=\"sk-parallel-item\"><div class=\"sk-item\"><div class=\"sk-label-container\"><div class=\"sk-label sk-toggleable\"><input class=\"sk-toggleable__control sk-hidden--visually\" id=\"sk-estimator-id-6\" type=\"checkbox\" ><label for=\"sk-estimator-id-6\" class=\"sk-toggleable__label sk-toggleable__label-arrow\">estimator: XGBClassifier</label><div class=\"sk-toggleable__content\"><pre>XGBClassifier(base_score=None, booster=None, callbacks=None,\n",
       "              colsample_bylevel=None, colsample_bynode=None,\n",
       "              colsample_bytree=None, device=None, early_stopping_rounds=None,\n",
       "              enable_categorical=False, eval_metric=None, feature_types=None,\n",
       "              gamma=None, grow_policy=None, importance_type=None,\n",
       "              interaction_constraints=None, learning_rate=None, max_bin=None,\n",
       "              max_cat_threshold=None, max_cat_to_onehot=None,\n",
       "              max_delta_step=None, max_depth=None, max_leaves=None,\n",
       "              min_child_weight=None, missing=nan, monotone_constraints=None,\n",
       "              multi_strategy=None, n_estimators=None, n_jobs=None,\n",
       "              num_parallel_tree=None, random_state=None, ...)</pre></div></div></div><div class=\"sk-serial\"><div class=\"sk-item\"><div class=\"sk-estimator sk-toggleable\"><input class=\"sk-toggleable__control sk-hidden--visually\" id=\"sk-estimator-id-7\" type=\"checkbox\" ><label for=\"sk-estimator-id-7\" class=\"sk-toggleable__label sk-toggleable__label-arrow\">XGBClassifier</label><div class=\"sk-toggleable__content\"><pre>XGBClassifier(base_score=None, booster=None, callbacks=None,\n",
       "              colsample_bylevel=None, colsample_bynode=None,\n",
       "              colsample_bytree=None, device=None, early_stopping_rounds=None,\n",
       "              enable_categorical=False, eval_metric=None, feature_types=None,\n",
       "              gamma=None, grow_policy=None, importance_type=None,\n",
       "              interaction_constraints=None, learning_rate=None, max_bin=None,\n",
       "              max_cat_threshold=None, max_cat_to_onehot=None,\n",
       "              max_delta_step=None, max_depth=None, max_leaves=None,\n",
       "              min_child_weight=None, missing=nan, monotone_constraints=None,\n",
       "              multi_strategy=None, n_estimators=None, n_jobs=None,\n",
       "              num_parallel_tree=None, random_state=None, ...)</pre></div></div></div></div></div></div></div></div></div></div>"
      ],
      "text/plain": [
       "RandomizedSearchCV(cv=3,\n",
       "                   estimator=XGBClassifier(base_score=None, booster=None,\n",
       "                                           callbacks=None,\n",
       "                                           colsample_bylevel=None,\n",
       "                                           colsample_bynode=None,\n",
       "                                           colsample_bytree=None, device=None,\n",
       "                                           early_stopping_rounds=None,\n",
       "                                           enable_categorical=False,\n",
       "                                           eval_metric=None, feature_types=None,\n",
       "                                           gamma=None, grow_policy=None,\n",
       "                                           importance_type=None,\n",
       "                                           interaction_constraints=None,\n",
       "                                           learning_rate...\n",
       "       360, 370, 380, 390, 400, 410, 420, 430, 440, 450, 460, 470, 480,\n",
       "       490, 500, 510, 520, 530, 540, 550, 560, 570, 580, 590, 600, 610,\n",
       "       620, 630, 640, 650, 660, 670, 680, 690, 700, 710, 720, 730, 740,\n",
       "       750, 760, 770, 780, 790, 800, 810, 820, 830, 840, 850, 860, 870,\n",
       "       880, 890, 900, 910, 920, 930, 940, 950, 960, 970, 980, 990]),\n",
       "                                        'subsample': array([0.5 , 0.55, 0.6 , 0.65, 0.7 , 0.75, 0.8 , 0.85, 0.9 , 0.95, 1.  ,\n",
       "       1.05, 1.1 ])},\n",
       "                   random_state=42, scoring='roc_auc', verbose=1)"
      ]
     },
     "execution_count": 184,
     "metadata": {},
     "output_type": "execute_result"
    }
   ],
   "source": [
    "#histgradient hyperparameter tuning\n",
    "xgb=XGBClassifier()\n",
    "parameters = {\n",
    "     'n_estimators': np.arange(100, 1000, 10),        # Larger step size for fewer combinations\n",
    "    'max_depth': np.arange(3, 10),                   \n",
    "    'learning_rate': np.arange(0.01, 0.4, 0.005),     # Adjusted step for learning_rate\n",
    "    'subsample': np.arange(0.5, 1.1, 0.05),           \n",
    "    'colsample_bytree': np.arange(0.5, 1.1, 0.05),    \n",
    "    'gamma': np.arange(0.1, 1.1, 0.05),               # Adjusted step for gamma\n",
    "    'lambda': np.arange(1, 10),\n",
    " }\n",
    "\n",
    "ml_model = RandomizedSearchCV(estimator           = xgb, \n",
    "                                   param_distributions = parameters, \n",
    "                                   scoring             = 'roc_auc', \n",
    "                                   n_iter              = 200, \n",
    "                                   cv                  = 3, \n",
    "                                   verbose             = 1, \n",
    "                                   n_jobs              = -1, \n",
    "                                   random_state        = 42)\n",
    "\n",
    "ml_model.fit(x, y)"
   ]
  },
  {
   "cell_type": "code",
   "execution_count": 185,
   "id": "afe0df94",
   "metadata": {},
   "outputs": [
    {
     "data": {
      "text/plain": [
       "0.9883244817402557"
      ]
     },
     "execution_count": 185,
     "metadata": {},
     "output_type": "execute_result"
    }
   ],
   "source": [
    "ml_model.best_score_"
   ]
  },
  {
   "cell_type": "code",
   "execution_count": 186,
   "id": "7a1252ad",
   "metadata": {},
   "outputs": [],
   "source": [
    "ml_model=ml_model.best_estimator_"
   ]
  },
  {
   "cell_type": "markdown",
   "id": "098b7e28",
   "metadata": {},
   "source": [
    "ml model comes to be best is Hist Gradient "
   ]
  },
  {
   "cell_type": "code",
   "execution_count": 68,
   "id": "f7382572",
   "metadata": {},
   "outputs": [
    {
     "name": "stdout",
     "output_type": "stream",
     "text": [
      "WARNING:tensorflow:From C:\\Users\\ayush\\anaconda3\\Lib\\site-packages\\keras\\src\\losses.py:2976: The name tf.losses.sparse_softmax_cross_entropy is deprecated. Please use tf.compat.v1.losses.sparse_softmax_cross_entropy instead.\n",
      "\n"
     ]
    }
   ],
   "source": [
    "#now for deep learning\n",
    "import tensorflow as tf\n",
    "from tensorflow.keras.models import Sequential\n",
    "from tensorflow.keras.layers import Dense, Dropout, BatchNormalization\n",
    "from tensorflow.keras.optimizers import Adam\n",
    "from tensorflow.keras.callbacks import EarlyStopping\n",
    "from tensorflow.keras import regularizers\n",
    "from sklearn.utils.class_weight import compute_class_weight"
   ]
  },
  {
   "cell_type": "code",
   "execution_count": 97,
   "id": "65e4aae4",
   "metadata": {},
   "outputs": [],
   "source": [
    "model = Sequential([\n",
    "    Dense(units=128, \n",
    "          activation='relu', \n",
    "          input_shape=(12,), \n",
    "          kernel_initializer='he_normal',  \n",
    "          bias_initializer='ones', \n",
    "          kernel_regularizer=regularizers.l2(0.01)),  \n",
    "    BatchNormalization(),\n",
    "    Dropout(0.3),\n",
    "    Dense(units=64, \n",
    "          activation='relu', \n",
    "          kernel_initializer='he_normal',\n",
    "          bias_initializer='ones',\n",
    "          kernel_regularizer=regularizers.l2(0.01)),\n",
    "    BatchNormalization(),\n",
    "    Dropout(0.3),\n",
    "    Dense(units=32, \n",
    "          activation='relu', \n",
    "          kernel_initializer='he_normal',\n",
    "          bias_initializer='ones',\n",
    "          kernel_regularizer=regularizers.l2(0.01)),\n",
    "    BatchNormalization(),\n",
    "    Dropout(0.3),\n",
    "    Dense(units=1, \n",
    "          activation='sigmoid', \n",
    "          kernel_initializer='glorot_uniform',  \n",
    "          bias_initializer='zeros')  \n",
    "])\n",
    "\n"
   ]
  },
  {
   "cell_type": "code",
   "execution_count": 98,
   "id": "1730bdc2",
   "metadata": {},
   "outputs": [
    {
     "name": "stdout",
     "output_type": "stream",
     "text": [
      "Epoch 1/150\n",
      "1054/1054 [==============================] - 7s 5ms/step - loss: 1.6533 - accuracy: 0.7465 - val_loss: 0.5585 - val_accuracy: 0.8047\n",
      "Epoch 2/150\n",
      "1054/1054 [==============================] - 4s 4ms/step - loss: 0.4998 - accuracy: 0.7974 - val_loss: 0.4755 - val_accuracy: 0.7847\n",
      "Epoch 3/150\n",
      "1054/1054 [==============================] - 4s 4ms/step - loss: 0.4636 - accuracy: 0.8001 - val_loss: 0.4440 - val_accuracy: 0.8056\n",
      "Epoch 4/150\n",
      "1054/1054 [==============================] - 4s 4ms/step - loss: 0.4557 - accuracy: 0.8027 - val_loss: 0.5212 - val_accuracy: 0.7693\n",
      "Epoch 5/150\n",
      "1054/1054 [==============================] - 4s 4ms/step - loss: 0.4547 - accuracy: 0.8000 - val_loss: 0.4919 - val_accuracy: 0.7720\n",
      "Epoch 6/150\n",
      "1054/1054 [==============================] - 5s 4ms/step - loss: 0.4518 - accuracy: 0.8026 - val_loss: 0.6062 - val_accuracy: 0.7415\n",
      "Epoch 7/150\n",
      "1054/1054 [==============================] - 4s 4ms/step - loss: 0.4521 - accuracy: 0.8016 - val_loss: 0.6292 - val_accuracy: 0.6910\n",
      "Epoch 8/150\n",
      "1054/1054 [==============================] - 5s 5ms/step - loss: 0.4452 - accuracy: 0.8041 - val_loss: 0.7446 - val_accuracy: 0.6261\n",
      "Epoch 9/150\n",
      "1054/1054 [==============================] - 5s 5ms/step - loss: 0.4472 - accuracy: 0.8029 - val_loss: 0.5565 - val_accuracy: 0.7454\n",
      "Epoch 10/150\n",
      "1054/1054 [==============================] - 5s 5ms/step - loss: 0.4480 - accuracy: 0.8028 - val_loss: 0.4862 - val_accuracy: 0.7761\n",
      "Epoch 11/150\n",
      "1054/1054 [==============================] - 4s 4ms/step - loss: 0.4437 - accuracy: 0.8040 - val_loss: 0.6155 - val_accuracy: 0.7517\n",
      "Epoch 12/150\n",
      "1054/1054 [==============================] - 5s 4ms/step - loss: 0.4438 - accuracy: 0.8046 - val_loss: 0.4571 - val_accuracy: 0.7983\n",
      "Epoch 13/150\n",
      "1054/1054 [==============================] - 5s 4ms/step - loss: 0.4438 - accuracy: 0.8053 - val_loss: 0.4338 - val_accuracy: 0.8071\n",
      "Epoch 14/150\n",
      "1054/1054 [==============================] - 4s 4ms/step - loss: 0.4449 - accuracy: 0.8030 - val_loss: 0.4626 - val_accuracy: 0.7865\n",
      "Epoch 15/150\n",
      "1054/1054 [==============================] - 6s 6ms/step - loss: 0.4442 - accuracy: 0.8054 - val_loss: 0.4645 - val_accuracy: 0.7976\n",
      "Epoch 16/150\n",
      "1054/1054 [==============================] - 4s 4ms/step - loss: 0.4416 - accuracy: 0.8071 - val_loss: 0.5150 - val_accuracy: 0.7541\n",
      "Epoch 17/150\n",
      "1054/1054 [==============================] - 5s 4ms/step - loss: 0.4433 - accuracy: 0.8065 - val_loss: 0.4307 - val_accuracy: 0.8156\n",
      "Epoch 18/150\n",
      "1054/1054 [==============================] - 4s 4ms/step - loss: 0.4420 - accuracy: 0.8052 - val_loss: 0.4417 - val_accuracy: 0.8020\n",
      "Epoch 19/150\n",
      "1054/1054 [==============================] - 4s 4ms/step - loss: 0.4409 - accuracy: 0.8071 - val_loss: 0.4144 - val_accuracy: 0.8178\n",
      "Epoch 20/150\n",
      "1054/1054 [==============================] - 4s 4ms/step - loss: 0.4397 - accuracy: 0.8082 - val_loss: 0.5360 - val_accuracy: 0.7604\n",
      "Epoch 21/150\n",
      "1054/1054 [==============================] - 4s 4ms/step - loss: 0.4451 - accuracy: 0.8074 - val_loss: 0.4883 - val_accuracy: 0.7852\n",
      "Epoch 22/150\n",
      "1054/1054 [==============================] - 4s 4ms/step - loss: 0.4418 - accuracy: 0.8093 - val_loss: 0.4264 - val_accuracy: 0.8181\n",
      "Epoch 23/150\n",
      "1054/1054 [==============================] - 4s 4ms/step - loss: 0.4405 - accuracy: 0.8097 - val_loss: 0.4141 - val_accuracy: 0.8192\n",
      "Epoch 24/150\n",
      "1054/1054 [==============================] - 4s 4ms/step - loss: 0.4355 - accuracy: 0.8113 - val_loss: 0.4329 - val_accuracy: 0.8043\n",
      "Epoch 25/150\n",
      "1054/1054 [==============================] - 4s 4ms/step - loss: 0.4371 - accuracy: 0.8124 - val_loss: 0.5056 - val_accuracy: 0.7916\n",
      "Epoch 26/150\n",
      "1054/1054 [==============================] - 4s 4ms/step - loss: 0.4372 - accuracy: 0.8104 - val_loss: 0.4076 - val_accuracy: 0.8287\n",
      "Epoch 27/150\n",
      "1054/1054 [==============================] - 4s 4ms/step - loss: 0.4343 - accuracy: 0.8134 - val_loss: 0.4274 - val_accuracy: 0.8102\n",
      "Epoch 28/150\n",
      "1054/1054 [==============================] - 4s 4ms/step - loss: 0.4318 - accuracy: 0.8156 - val_loss: 0.4212 - val_accuracy: 0.8152\n",
      "Epoch 29/150\n",
      "1054/1054 [==============================] - 4s 4ms/step - loss: 0.4313 - accuracy: 0.8137 - val_loss: 0.4170 - val_accuracy: 0.8199\n",
      "Epoch 30/150\n",
      "1054/1054 [==============================] - 5s 4ms/step - loss: 0.4298 - accuracy: 0.8175 - val_loss: 0.4233 - val_accuracy: 0.8153\n",
      "Epoch 31/150\n",
      "1054/1054 [==============================] - 4s 4ms/step - loss: 0.4304 - accuracy: 0.8160 - val_loss: 0.3954 - val_accuracy: 0.8302\n",
      "Epoch 32/150\n",
      "1054/1054 [==============================] - 4s 3ms/step - loss: 0.4303 - accuracy: 0.8161 - val_loss: 0.5020 - val_accuracy: 0.7605\n",
      "Epoch 33/150\n",
      "1054/1054 [==============================] - 4s 3ms/step - loss: 0.4284 - accuracy: 0.8175 - val_loss: 0.4732 - val_accuracy: 0.7951\n",
      "Epoch 34/150\n",
      "1054/1054 [==============================] - 4s 4ms/step - loss: 0.4290 - accuracy: 0.8181 - val_loss: 0.4824 - val_accuracy: 0.7961\n",
      "Epoch 35/150\n",
      "1054/1054 [==============================] - 4s 4ms/step - loss: 0.4283 - accuracy: 0.8176 - val_loss: 0.4899 - val_accuracy: 0.8001\n",
      "Epoch 36/150\n",
      "1054/1054 [==============================] - 4s 4ms/step - loss: 0.4288 - accuracy: 0.8176 - val_loss: 0.4475 - val_accuracy: 0.8083\n",
      "Epoch 37/150\n",
      "1054/1054 [==============================] - 4s 3ms/step - loss: 0.4267 - accuracy: 0.8181 - val_loss: 0.5126 - val_accuracy: 0.7697\n",
      "Epoch 38/150\n",
      "1054/1054 [==============================] - 4s 4ms/step - loss: 0.4244 - accuracy: 0.8190 - val_loss: 0.5259 - val_accuracy: 0.7565\n",
      "Epoch 39/150\n",
      "1054/1054 [==============================] - 4s 4ms/step - loss: 0.4272 - accuracy: 0.8186 - val_loss: 0.4643 - val_accuracy: 0.8065\n",
      "Epoch 40/150\n",
      "1054/1054 [==============================] - 4s 4ms/step - loss: 0.4262 - accuracy: 0.8204 - val_loss: 0.4078 - val_accuracy: 0.8224\n",
      "Epoch 41/150\n",
      "1054/1054 [==============================] - 5s 5ms/step - loss: 0.4240 - accuracy: 0.8215 - val_loss: 0.4316 - val_accuracy: 0.8248\n",
      "Epoch 42/150\n",
      "1054/1054 [==============================] - 4s 4ms/step - loss: 0.4461 - accuracy: 0.8079 - val_loss: 0.4177 - val_accuracy: 0.8255\n",
      "Epoch 43/150\n",
      "1054/1054 [==============================] - 4s 4ms/step - loss: 0.4330 - accuracy: 0.8143 - val_loss: 0.4439 - val_accuracy: 0.8109\n",
      "Epoch 44/150\n",
      "1054/1054 [==============================] - 4s 4ms/step - loss: 0.4309 - accuracy: 0.8151 - val_loss: 0.4013 - val_accuracy: 0.8256\n",
      "Epoch 45/150\n",
      "1054/1054 [==============================] - 4s 4ms/step - loss: 0.4278 - accuracy: 0.8173 - val_loss: 0.4277 - val_accuracy: 0.8103\n",
      "Epoch 46/150\n",
      "1054/1054 [==============================] - 4s 4ms/step - loss: 0.4251 - accuracy: 0.8156 - val_loss: 0.4895 - val_accuracy: 0.7702\n",
      "Epoch 47/150\n",
      "1054/1054 [==============================] - 4s 4ms/step - loss: 0.4243 - accuracy: 0.8190 - val_loss: 0.4763 - val_accuracy: 0.7871\n",
      "Epoch 48/150\n",
      "1054/1054 [==============================] - 5s 5ms/step - loss: 0.4273 - accuracy: 0.8179 - val_loss: 0.4057 - val_accuracy: 0.8288\n",
      "Epoch 49/150\n",
      "1054/1054 [==============================] - 4s 4ms/step - loss: 0.4248 - accuracy: 0.8181 - val_loss: 0.4331 - val_accuracy: 0.7994\n",
      "Epoch 50/150\n",
      "1054/1054 [==============================] - 4s 4ms/step - loss: 0.4279 - accuracy: 0.8164 - val_loss: 0.5458 - val_accuracy: 0.7581\n",
      "Epoch 51/150\n",
      "1054/1054 [==============================] - 5s 4ms/step - loss: 0.4253 - accuracy: 0.8185 - val_loss: 0.4263 - val_accuracy: 0.8174\n",
      "Epoch 52/150\n",
      "1054/1054 [==============================] - 4s 4ms/step - loss: 0.4267 - accuracy: 0.8181 - val_loss: 0.4121 - val_accuracy: 0.8277\n",
      "Epoch 53/150\n",
      "1054/1054 [==============================] - 4s 4ms/step - loss: 0.4248 - accuracy: 0.8201 - val_loss: 0.4051 - val_accuracy: 0.8238\n",
      "Epoch 54/150\n",
      "1054/1054 [==============================] - 4s 4ms/step - loss: 0.4218 - accuracy: 0.8204 - val_loss: 0.4476 - val_accuracy: 0.8128\n",
      "Epoch 55/150\n",
      "1054/1054 [==============================] - 4s 4ms/step - loss: 0.4260 - accuracy: 0.8186 - val_loss: 0.4219 - val_accuracy: 0.8181\n",
      "Epoch 56/150\n",
      "1054/1054 [==============================] - 4s 4ms/step - loss: 0.4255 - accuracy: 0.8200 - val_loss: 0.4488 - val_accuracy: 0.8116\n",
      "Epoch 57/150\n"
     ]
    },
    {
     "name": "stdout",
     "output_type": "stream",
     "text": [
      "1054/1054 [==============================] - 5s 5ms/step - loss: 0.4342 - accuracy: 0.8150 - val_loss: 0.4306 - val_accuracy: 0.8041\n",
      "Epoch 58/150\n",
      "1054/1054 [==============================] - 5s 4ms/step - loss: 0.4232 - accuracy: 0.8193 - val_loss: 0.5002 - val_accuracy: 0.7703\n",
      "Epoch 59/150\n",
      "1054/1054 [==============================] - 4s 4ms/step - loss: 0.4235 - accuracy: 0.8202 - val_loss: 0.8314 - val_accuracy: 0.6715\n",
      "Epoch 60/150\n",
      "1054/1054 [==============================] - 4s 4ms/step - loss: 0.4253 - accuracy: 0.8177 - val_loss: 0.4363 - val_accuracy: 0.8005\n",
      "Epoch 61/150\n",
      "1054/1054 [==============================] - 4s 4ms/step - loss: 0.4248 - accuracy: 0.8189 - val_loss: 0.4263 - val_accuracy: 0.8146\n",
      "Epoch 62/150\n",
      "1054/1054 [==============================] - 4s 4ms/step - loss: 0.4224 - accuracy: 0.8203 - val_loss: 0.4184 - val_accuracy: 0.8187\n",
      "Epoch 63/150\n",
      "1054/1054 [==============================] - 4s 4ms/step - loss: 0.4220 - accuracy: 0.8208 - val_loss: 0.5317 - val_accuracy: 0.7766\n",
      "Epoch 64/150\n",
      "1054/1054 [==============================] - 4s 4ms/step - loss: 0.4236 - accuracy: 0.8195 - val_loss: 0.4375 - val_accuracy: 0.8244\n",
      "Epoch 65/150\n",
      "1054/1054 [==============================] - 4s 4ms/step - loss: 0.4238 - accuracy: 0.8188 - val_loss: 0.7485 - val_accuracy: 0.7426\n",
      "Epoch 66/150\n",
      "1054/1054 [==============================] - 4s 4ms/step - loss: 0.4232 - accuracy: 0.8193 - val_loss: 0.6395 - val_accuracy: 0.6995\n",
      "Epoch 67/150\n",
      "1054/1054 [==============================] - 5s 4ms/step - loss: 0.4250 - accuracy: 0.8181 - val_loss: 0.4205 - val_accuracy: 0.8198\n",
      "Epoch 68/150\n",
      "1054/1054 [==============================] - 5s 4ms/step - loss: 0.4257 - accuracy: 0.8201 - val_loss: 0.4326 - val_accuracy: 0.8201\n",
      "Epoch 69/150\n",
      "1054/1054 [==============================] - 5s 4ms/step - loss: 0.4239 - accuracy: 0.8197 - val_loss: 0.4052 - val_accuracy: 0.8263\n",
      "Epoch 70/150\n",
      "1054/1054 [==============================] - 4s 4ms/step - loss: 0.4230 - accuracy: 0.8197 - val_loss: 0.5032 - val_accuracy: 0.7882\n",
      "Epoch 71/150\n",
      "1054/1054 [==============================] - 4s 4ms/step - loss: 0.4236 - accuracy: 0.8188 - val_loss: 0.4792 - val_accuracy: 0.8132\n",
      "Epoch 72/150\n",
      "1054/1054 [==============================] - 4s 4ms/step - loss: 0.4234 - accuracy: 0.8196 - val_loss: 0.9701 - val_accuracy: 0.6051\n",
      "Epoch 73/150\n",
      "1054/1054 [==============================] - 4s 4ms/step - loss: 0.4231 - accuracy: 0.8194 - val_loss: 0.4496 - val_accuracy: 0.7848\n",
      "Epoch 74/150\n",
      "1054/1054 [==============================] - 4s 4ms/step - loss: 0.4221 - accuracy: 0.8206 - val_loss: 0.5074 - val_accuracy: 0.7498\n",
      "Epoch 75/150\n",
      "1054/1054 [==============================] - 4s 4ms/step - loss: 0.4237 - accuracy: 0.8207 - val_loss: 0.4467 - val_accuracy: 0.7983\n",
      "Epoch 76/150\n",
      "1054/1054 [==============================] - 4s 4ms/step - loss: 0.4210 - accuracy: 0.8211 - val_loss: 0.4320 - val_accuracy: 0.8152\n",
      "Epoch 77/150\n",
      "1054/1054 [==============================] - 6s 6ms/step - loss: 0.4217 - accuracy: 0.8211 - val_loss: 0.3895 - val_accuracy: 0.8358\n",
      "Epoch 78/150\n",
      "1054/1054 [==============================] - 5s 5ms/step - loss: 0.4226 - accuracy: 0.8212 - val_loss: 0.4325 - val_accuracy: 0.8119\n",
      "Epoch 79/150\n",
      "1054/1054 [==============================] - 8s 7ms/step - loss: 0.4193 - accuracy: 0.8229 - val_loss: 0.4020 - val_accuracy: 0.8295\n",
      "Epoch 80/150\n",
      "1054/1054 [==============================] - 8s 8ms/step - loss: 0.4197 - accuracy: 0.8229 - val_loss: 0.4440 - val_accuracy: 0.8083\n",
      "Epoch 81/150\n",
      "1054/1054 [==============================] - 4s 4ms/step - loss: 0.4235 - accuracy: 0.8209 - val_loss: 0.5628 - val_accuracy: 0.7533\n",
      "Epoch 82/150\n",
      "1054/1054 [==============================] - 4s 4ms/step - loss: 0.4245 - accuracy: 0.8187 - val_loss: 0.5664 - val_accuracy: 0.7661\n",
      "Epoch 83/150\n",
      "1054/1054 [==============================] - 4s 4ms/step - loss: 0.4225 - accuracy: 0.8203 - val_loss: 0.4331 - val_accuracy: 0.8078\n",
      "Epoch 84/150\n",
      "1054/1054 [==============================] - 4s 4ms/step - loss: 0.4284 - accuracy: 0.8159 - val_loss: 0.3974 - val_accuracy: 0.8332\n",
      "Epoch 85/150\n",
      "1054/1054 [==============================] - 7s 6ms/step - loss: 0.4196 - accuracy: 0.8209 - val_loss: 0.4829 - val_accuracy: 0.8045\n",
      "Epoch 86/150\n",
      "1054/1054 [==============================] - 11s 10ms/step - loss: 0.4198 - accuracy: 0.8221 - val_loss: 0.8377 - val_accuracy: 0.6765\n",
      "Epoch 87/150\n",
      "1054/1054 [==============================] - 10s 9ms/step - loss: 0.4208 - accuracy: 0.8199 - val_loss: 0.4213 - val_accuracy: 0.8196\n",
      "Epoch 88/150\n",
      "1054/1054 [==============================] - 5s 4ms/step - loss: 0.4215 - accuracy: 0.8212 - val_loss: 0.4031 - val_accuracy: 0.8246\n",
      "Epoch 89/150\n",
      "1054/1054 [==============================] - 7s 6ms/step - loss: 0.4206 - accuracy: 0.8211 - val_loss: 0.3927 - val_accuracy: 0.8366\n",
      "Epoch 90/150\n",
      "1054/1054 [==============================] - 6s 6ms/step - loss: 0.4214 - accuracy: 0.8203 - val_loss: 0.4533 - val_accuracy: 0.8064\n",
      "Epoch 91/150\n",
      "1054/1054 [==============================] - 5s 4ms/step - loss: 0.4207 - accuracy: 0.8207 - val_loss: 0.4471 - val_accuracy: 0.8035\n",
      "Epoch 92/150\n",
      "1054/1054 [==============================] - 6s 5ms/step - loss: 0.4201 - accuracy: 0.8218 - val_loss: 0.4441 - val_accuracy: 0.8062\n",
      "Epoch 93/150\n",
      "1054/1054 [==============================] - 6s 6ms/step - loss: 0.4207 - accuracy: 0.8197 - val_loss: 0.4537 - val_accuracy: 0.7978\n",
      "Epoch 94/150\n",
      "1054/1054 [==============================] - 6s 6ms/step - loss: 0.4214 - accuracy: 0.8198 - val_loss: 0.5131 - val_accuracy: 0.7513\n",
      "Epoch 95/150\n",
      "1054/1054 [==============================] - 5s 4ms/step - loss: 0.4197 - accuracy: 0.8216 - val_loss: 0.5002 - val_accuracy: 0.7605\n",
      "Epoch 96/150\n",
      "1054/1054 [==============================] - 4s 4ms/step - loss: 0.4224 - accuracy: 0.8199 - val_loss: 0.4300 - val_accuracy: 0.8109\n",
      "Epoch 97/150\n",
      "1054/1054 [==============================] - 4s 4ms/step - loss: 0.4200 - accuracy: 0.8227 - val_loss: 0.4216 - val_accuracy: 0.8232\n",
      "Epoch 98/150\n",
      "1054/1054 [==============================] - 5s 5ms/step - loss: 0.4220 - accuracy: 0.8212 - val_loss: 0.5476 - val_accuracy: 0.7812\n",
      "Epoch 99/150\n",
      "1054/1054 [==============================] - 4s 4ms/step - loss: 0.4221 - accuracy: 0.8204 - val_loss: 0.4830 - val_accuracy: 0.7922\n",
      "Epoch 100/150\n",
      "1054/1054 [==============================] - 4s 4ms/step - loss: 0.4210 - accuracy: 0.8209 - val_loss: 0.5191 - val_accuracy: 0.7506\n",
      "Epoch 101/150\n",
      "1054/1054 [==============================] - 4s 4ms/step - loss: 0.4200 - accuracy: 0.8197 - val_loss: 0.4041 - val_accuracy: 0.8251\n",
      "Epoch 102/150\n",
      "1054/1054 [==============================] - 5s 5ms/step - loss: 0.4201 - accuracy: 0.8210 - val_loss: 0.5804 - val_accuracy: 0.7836\n",
      "Epoch 103/150\n",
      "1054/1054 [==============================] - 5s 4ms/step - loss: 0.4202 - accuracy: 0.8219 - val_loss: 0.3940 - val_accuracy: 0.8354\n",
      "Epoch 104/150\n",
      "1054/1054 [==============================] - 5s 4ms/step - loss: 0.4207 - accuracy: 0.8209 - val_loss: 0.4466 - val_accuracy: 0.8018\n",
      "Epoch 105/150\n",
      "1054/1054 [==============================] - 5s 5ms/step - loss: 0.4203 - accuracy: 0.8200 - val_loss: 0.4114 - val_accuracy: 0.8206\n",
      "Epoch 106/150\n",
      "1054/1054 [==============================] - 4s 4ms/step - loss: 0.4272 - accuracy: 0.8183 - val_loss: 0.4602 - val_accuracy: 0.8097\n",
      "Epoch 107/150\n",
      "1054/1054 [==============================] - 5s 5ms/step - loss: 0.4226 - accuracy: 0.8193 - val_loss: 0.4940 - val_accuracy: 0.7726\n",
      "Epoch 108/150\n",
      "1054/1054 [==============================] - 4s 4ms/step - loss: 0.4209 - accuracy: 0.8222 - val_loss: 0.4243 - val_accuracy: 0.8200\n",
      "Epoch 109/150\n",
      "1054/1054 [==============================] - 4s 4ms/step - loss: 0.4222 - accuracy: 0.8212 - val_loss: 0.7223 - val_accuracy: 0.6788\n",
      "Epoch 110/150\n",
      "1054/1054 [==============================] - 4s 4ms/step - loss: 0.4293 - accuracy: 0.8160 - val_loss: 0.4347 - val_accuracy: 0.8110\n",
      "Epoch 111/150\n",
      "1054/1054 [==============================] - 5s 4ms/step - loss: 0.4272 - accuracy: 0.8171 - val_loss: 0.3891 - val_accuracy: 0.8314\n",
      "Epoch 112/150\n",
      "1054/1054 [==============================] - 4s 4ms/step - loss: 0.4215 - accuracy: 0.8200 - val_loss: 0.3976 - val_accuracy: 0.8300\n",
      "Epoch 113/150\n"
     ]
    },
    {
     "name": "stdout",
     "output_type": "stream",
     "text": [
      "1054/1054 [==============================] - 4s 4ms/step - loss: 0.4197 - accuracy: 0.8223 - val_loss: 0.4949 - val_accuracy: 0.7735\n",
      "Epoch 114/150\n",
      "1054/1054 [==============================] - 5s 5ms/step - loss: 0.4217 - accuracy: 0.8193 - val_loss: 0.5989 - val_accuracy: 0.7555\n",
      "Epoch 115/150\n",
      "1054/1054 [==============================] - 8s 7ms/step - loss: 0.4212 - accuracy: 0.8207 - val_loss: 0.3974 - val_accuracy: 0.8311\n",
      "Epoch 116/150\n",
      "1054/1054 [==============================] - 7s 7ms/step - loss: 0.4215 - accuracy: 0.8218 - val_loss: 0.5266 - val_accuracy: 0.7604\n",
      "Epoch 117/150\n",
      "1054/1054 [==============================] - 5s 5ms/step - loss: 0.4200 - accuracy: 0.8209 - val_loss: 0.5451 - val_accuracy: 0.7858\n",
      "Epoch 118/150\n",
      "1054/1054 [==============================] - 4s 4ms/step - loss: 0.4224 - accuracy: 0.8199 - val_loss: 0.6663 - val_accuracy: 0.6761\n",
      "Epoch 119/150\n",
      "1054/1054 [==============================] - 6s 6ms/step - loss: 0.4264 - accuracy: 0.8191 - val_loss: 0.4508 - val_accuracy: 0.7994\n",
      "Epoch 120/150\n",
      "1054/1054 [==============================] - 5s 4ms/step - loss: 0.4212 - accuracy: 0.8207 - val_loss: 0.4019 - val_accuracy: 0.8295\n",
      "Epoch 121/150\n",
      "1054/1054 [==============================] - 4s 4ms/step - loss: 0.4199 - accuracy: 0.8216 - val_loss: 0.4055 - val_accuracy: 0.8313\n",
      "Epoch 122/150\n",
      "1054/1054 [==============================] - 4s 4ms/step - loss: 0.4202 - accuracy: 0.8214 - val_loss: 0.4751 - val_accuracy: 0.8030\n",
      "Epoch 123/150\n",
      "1054/1054 [==============================] - 5s 4ms/step - loss: 0.4203 - accuracy: 0.8209 - val_loss: 0.4257 - val_accuracy: 0.8124\n",
      "Epoch 124/150\n",
      "1054/1054 [==============================] - 7s 7ms/step - loss: 0.4205 - accuracy: 0.8204 - val_loss: 0.3948 - val_accuracy: 0.8343\n",
      "Epoch 125/150\n",
      "1054/1054 [==============================] - 8s 7ms/step - loss: 0.4220 - accuracy: 0.8211 - val_loss: 0.4914 - val_accuracy: 0.7778\n",
      "Epoch 126/150\n",
      "1054/1054 [==============================] - 5s 5ms/step - loss: 0.4221 - accuracy: 0.8199 - val_loss: 0.4136 - val_accuracy: 0.8322\n",
      "Epoch 127/150\n",
      "1054/1054 [==============================] - 4s 4ms/step - loss: 0.4202 - accuracy: 0.8230 - val_loss: 0.4099 - val_accuracy: 0.8272\n",
      "Epoch 128/150\n",
      "1054/1054 [==============================] - 4s 4ms/step - loss: 0.4229 - accuracy: 0.8212 - val_loss: 0.4698 - val_accuracy: 0.8072\n",
      "Epoch 129/150\n",
      "1054/1054 [==============================] - 5s 4ms/step - loss: 0.4341 - accuracy: 0.8144 - val_loss: 0.4211 - val_accuracy: 0.8161\n",
      "Epoch 130/150\n",
      "1054/1054 [==============================] - 9s 9ms/step - loss: 0.4223 - accuracy: 0.8211 - val_loss: 0.4016 - val_accuracy: 0.8317\n",
      "Epoch 131/150\n",
      "1054/1054 [==============================] - 8s 7ms/step - loss: 0.4210 - accuracy: 0.8191 - val_loss: 0.4646 - val_accuracy: 0.7893\n",
      "Epoch 132/150\n",
      "1054/1054 [==============================] - 4s 4ms/step - loss: 0.4222 - accuracy: 0.8205 - val_loss: 0.3960 - val_accuracy: 0.8289\n",
      "Epoch 133/150\n",
      "1054/1054 [==============================] - 4s 4ms/step - loss: 0.4208 - accuracy: 0.8220 - val_loss: 0.4267 - val_accuracy: 0.8202\n",
      "Epoch 134/150\n",
      "1054/1054 [==============================] - 4s 4ms/step - loss: 0.4212 - accuracy: 0.8200 - val_loss: 0.4223 - val_accuracy: 0.8126\n",
      "Epoch 135/150\n",
      "1054/1054 [==============================] - 5s 5ms/step - loss: 0.4226 - accuracy: 0.8185 - val_loss: 0.3896 - val_accuracy: 0.8403\n",
      "Epoch 136/150\n",
      "1054/1054 [==============================] - 4s 4ms/step - loss: 0.4218 - accuracy: 0.8205 - val_loss: 0.4766 - val_accuracy: 0.7993\n",
      "Epoch 137/150\n",
      "1054/1054 [==============================] - 4s 4ms/step - loss: 0.4196 - accuracy: 0.8208 - val_loss: 0.5837 - val_accuracy: 0.7775\n",
      "Epoch 138/150\n",
      "1054/1054 [==============================] - 8s 8ms/step - loss: 0.4321 - accuracy: 0.8159 - val_loss: 0.4571 - val_accuracy: 0.7953\n",
      "Epoch 139/150\n",
      "1054/1054 [==============================] - 9s 8ms/step - loss: 0.4340 - accuracy: 0.8152 - val_loss: 0.3926 - val_accuracy: 0.8368\n",
      "Epoch 140/150\n",
      "1054/1054 [==============================] - 4s 4ms/step - loss: 0.4217 - accuracy: 0.8210 - val_loss: 0.4304 - val_accuracy: 0.8085\n",
      "Epoch 141/150\n",
      "1054/1054 [==============================] - 4s 4ms/step - loss: 0.4223 - accuracy: 0.8184 - val_loss: 0.3910 - val_accuracy: 0.8356\n",
      "Epoch 142/150\n",
      "1054/1054 [==============================] - 4s 4ms/step - loss: 0.4236 - accuracy: 0.8197 - val_loss: 0.4237 - val_accuracy: 0.8180\n",
      "Epoch 143/150\n",
      "1054/1054 [==============================] - 4s 4ms/step - loss: 0.4211 - accuracy: 0.8211 - val_loss: 0.4403 - val_accuracy: 0.8060\n",
      "Epoch 144/150\n",
      "1054/1054 [==============================] - 4s 4ms/step - loss: 0.4235 - accuracy: 0.8203 - val_loss: 0.4211 - val_accuracy: 0.8215\n",
      "Epoch 145/150\n",
      "1054/1054 [==============================] - 4s 4ms/step - loss: 0.4197 - accuracy: 0.8221 - val_loss: 0.4267 - val_accuracy: 0.8166\n",
      "Epoch 146/150\n",
      "1054/1054 [==============================] - 4s 4ms/step - loss: 0.4199 - accuracy: 0.8226 - val_loss: 0.4927 - val_accuracy: 0.7847\n",
      "Epoch 147/150\n",
      "1054/1054 [==============================] - 4s 4ms/step - loss: 0.4214 - accuracy: 0.8207 - val_loss: 0.4621 - val_accuracy: 0.7892\n",
      "Epoch 148/150\n",
      "1054/1054 [==============================] - 5s 4ms/step - loss: 0.4206 - accuracy: 0.8206 - val_loss: 0.4188 - val_accuracy: 0.8129\n",
      "Epoch 149/150\n",
      "1054/1054 [==============================] - 4s 4ms/step - loss: 0.4213 - accuracy: 0.8203 - val_loss: 0.4948 - val_accuracy: 0.7874\n",
      "Epoch 150/150\n",
      "1054/1054 [==============================] - 5s 5ms/step - loss: 0.4193 - accuracy: 0.8207 - val_loss: 0.4048 - val_accuracy: 0.8221\n"
     ]
    }
   ],
   "source": [
    "model.compile(optimizer=Adam(learning_rate=0.001),\n",
    "              loss='binary_crossentropy',\n",
    "              metrics=['accuracy'])\n",
    "\n",
    "history = model.fit(x_train, y_train,\n",
    "                    validation_data=(x_test, y_test),\n",
    "                    epochs=150,\n",
    "                    batch_size=64,\n",
    "                 )  \n"
   ]
  },
  {
   "cell_type": "code",
   "execution_count": 99,
   "id": "3a562230",
   "metadata": {},
   "outputs": [
    {
     "data": {
      "text/plain": [
       "{'loss': [1.653290033340454,\n",
       "  0.49984803795814514,\n",
       "  0.4636121690273285,\n",
       "  0.4557058811187744,\n",
       "  0.4546562433242798,\n",
       "  0.4517984092235565,\n",
       "  0.45209330320358276,\n",
       "  0.4451931118965149,\n",
       "  0.4472147524356842,\n",
       "  0.4479520320892334,\n",
       "  0.443701833486557,\n",
       "  0.4438103437423706,\n",
       "  0.4437525272369385,\n",
       "  0.444894015789032,\n",
       "  0.44420233368873596,\n",
       "  0.4416351318359375,\n",
       "  0.44334685802459717,\n",
       "  0.441986620426178,\n",
       "  0.44090738892555237,\n",
       "  0.4396859407424927,\n",
       "  0.4450843036174774,\n",
       "  0.4418051242828369,\n",
       "  0.4404752552509308,\n",
       "  0.43552884459495544,\n",
       "  0.43708762526512146,\n",
       "  0.43723392486572266,\n",
       "  0.4342908561229706,\n",
       "  0.43177399039268494,\n",
       "  0.4313250184059143,\n",
       "  0.4298371970653534,\n",
       "  0.43035688996315,\n",
       "  0.4303162097930908,\n",
       "  0.4284389019012451,\n",
       "  0.4289872348308563,\n",
       "  0.4283093810081482,\n",
       "  0.4287812113761902,\n",
       "  0.42665842175483704,\n",
       "  0.42439547181129456,\n",
       "  0.42721134424209595,\n",
       "  0.42624345421791077,\n",
       "  0.42398935556411743,\n",
       "  0.446071594953537,\n",
       "  0.4330293536186218,\n",
       "  0.43088704347610474,\n",
       "  0.42778682708740234,\n",
       "  0.4250524342060089,\n",
       "  0.4242524206638336,\n",
       "  0.42731839418411255,\n",
       "  0.4248124063014984,\n",
       "  0.42788591980934143,\n",
       "  0.42527657747268677,\n",
       "  0.42673981189727783,\n",
       "  0.42481330037117004,\n",
       "  0.4218446910381317,\n",
       "  0.4260420501232147,\n",
       "  0.42545294761657715,\n",
       "  0.4342087209224701,\n",
       "  0.42321550846099854,\n",
       "  0.4234720766544342,\n",
       "  0.42529916763305664,\n",
       "  0.4247758686542511,\n",
       "  0.42242172360420227,\n",
       "  0.42204391956329346,\n",
       "  0.42355525493621826,\n",
       "  0.4237652122974396,\n",
       "  0.4232390820980072,\n",
       "  0.4249759614467621,\n",
       "  0.4256647825241089,\n",
       "  0.4238649010658264,\n",
       "  0.4229620099067688,\n",
       "  0.423560231924057,\n",
       "  0.42335203289985657,\n",
       "  0.4230955243110657,\n",
       "  0.4220995306968689,\n",
       "  0.42374587059020996,\n",
       "  0.4210456907749176,\n",
       "  0.4217076599597931,\n",
       "  0.4225749969482422,\n",
       "  0.4193025231361389,\n",
       "  0.4197150766849518,\n",
       "  0.42350348830223083,\n",
       "  0.4245341420173645,\n",
       "  0.42247647047042847,\n",
       "  0.42840540409088135,\n",
       "  0.41955459117889404,\n",
       "  0.41980454325675964,\n",
       "  0.4208263158798218,\n",
       "  0.4215297996997833,\n",
       "  0.42064759135246277,\n",
       "  0.42139407992362976,\n",
       "  0.4206691384315491,\n",
       "  0.42005428671836853,\n",
       "  0.4207139015197754,\n",
       "  0.42138922214508057,\n",
       "  0.4196995496749878,\n",
       "  0.4223916232585907,\n",
       "  0.42000794410705566,\n",
       "  0.4219951629638672,\n",
       "  0.4221118092536926,\n",
       "  0.42101457715034485,\n",
       "  0.42000848054885864,\n",
       "  0.4201367497444153,\n",
       "  0.42021384835243225,\n",
       "  0.4207253158092499,\n",
       "  0.4202856123447418,\n",
       "  0.42718687653541565,\n",
       "  0.4226255416870117,\n",
       "  0.42094686627388,\n",
       "  0.4221906065940857,\n",
       "  0.42934492230415344,\n",
       "  0.42722079157829285,\n",
       "  0.4215143024921417,\n",
       "  0.41967344284057617,\n",
       "  0.4216591417789459,\n",
       "  0.42120659351348877,\n",
       "  0.42148080468177795,\n",
       "  0.41999828815460205,\n",
       "  0.4224194288253784,\n",
       "  0.42644748091697693,\n",
       "  0.4211794137954712,\n",
       "  0.41992664337158203,\n",
       "  0.42024263739585876,\n",
       "  0.42028021812438965,\n",
       "  0.4205384850502014,\n",
       "  0.4219501316547394,\n",
       "  0.42207908630371094,\n",
       "  0.42016369104385376,\n",
       "  0.42291170358657837,\n",
       "  0.4340987503528595,\n",
       "  0.4223310351371765,\n",
       "  0.42097482085227966,\n",
       "  0.4222410023212433,\n",
       "  0.4208168089389801,\n",
       "  0.42115163803100586,\n",
       "  0.422626793384552,\n",
       "  0.421836256980896,\n",
       "  0.4195849597454071,\n",
       "  0.43212834000587463,\n",
       "  0.4339532256126404,\n",
       "  0.42170870304107666,\n",
       "  0.4223209023475647,\n",
       "  0.4236270487308502,\n",
       "  0.4211348295211792,\n",
       "  0.42350929975509644,\n",
       "  0.41967853903770447,\n",
       "  0.41987231373786926,\n",
       "  0.42144614458084106,\n",
       "  0.42064541578292847,\n",
       "  0.4212895333766937,\n",
       "  0.41926097869873047],\n",
       " 'accuracy': [0.7464500069618225,\n",
       "  0.7974330186843872,\n",
       "  0.8000741600990295,\n",
       "  0.8027005195617676,\n",
       "  0.7999554872512817,\n",
       "  0.8025966286659241,\n",
       "  0.8015727996826172,\n",
       "  0.8040655851364136,\n",
       "  0.8028785586357117,\n",
       "  0.8027598261833191,\n",
       "  0.8039913773536682,\n",
       "  0.8045700788497925,\n",
       "  0.8052971363067627,\n",
       "  0.8029823899269104,\n",
       "  0.8054009675979614,\n",
       "  0.8071073293685913,\n",
       "  0.8065286874771118,\n",
       "  0.8052229285240173,\n",
       "  0.8070777058601379,\n",
       "  0.8082498908042908,\n",
       "  0.8073892593383789,\n",
       "  0.809288501739502,\n",
       "  0.8097484707832336,\n",
       "  0.8113361597061157,\n",
       "  0.812404453754425,\n",
       "  0.8104459047317505,\n",
       "  0.8134282827377319,\n",
       "  0.8155500888824463,\n",
       "  0.8137250542640686,\n",
       "  0.8175086975097656,\n",
       "  0.8160397410392761,\n",
       "  0.8160545825958252,\n",
       "  0.8174938559532166,\n",
       "  0.8181467652320862,\n",
       "  0.8176125884056091,\n",
       "  0.8175680637359619,\n",
       "  0.8181319236755371,\n",
       "  0.8189776539802551,\n",
       "  0.8185918927192688,\n",
       "  0.8203872442245483,\n",
       "  0.8215001225471497,\n",
       "  0.807938277721405,\n",
       "  0.8142740726470947,\n",
       "  0.8151346445083618,\n",
       "  0.8172712922096252,\n",
       "  0.8156094551086426,\n",
       "  0.8190221786499023,\n",
       "  0.817939043045044,\n",
       "  0.8180577158927917,\n",
       "  0.8164404034614563,\n",
       "  0.8184731602668762,\n",
       "  0.8180873990058899,\n",
       "  0.8201202154159546,\n",
       "  0.8204169273376465,\n",
       "  0.8186067342758179,\n",
       "  0.8200311660766602,\n",
       "  0.8149566054344177,\n",
       "  0.8192744255065918,\n",
       "  0.8201943635940552,\n",
       "  0.8176719546318054,\n",
       "  0.8188738226890564,\n",
       "  0.8202685713768005,\n",
       "  0.8208175897598267,\n",
       "  0.8195266723632812,\n",
       "  0.8187550902366638,\n",
       "  0.8193337917327881,\n",
       "  0.8181319236755371,\n",
       "  0.8201349973678589,\n",
       "  0.8197492361068726,\n",
       "  0.8197047114372253,\n",
       "  0.818784773349762,\n",
       "  0.8196008801460266,\n",
       "  0.8194227814674377,\n",
       "  0.8205653429031372,\n",
       "  0.820684015750885,\n",
       "  0.8211439847946167,\n",
       "  0.8210846781730652,\n",
       "  0.8211885094642639,\n",
       "  0.8229245543479919,\n",
       "  0.8229097127914429,\n",
       "  0.8208917379379272,\n",
       "  0.8186661005020142,\n",
       "  0.8202982544898987,\n",
       "  0.8158913850784302,\n",
       "  0.8209065794944763,\n",
       "  0.8221381306648254,\n",
       "  0.8198531270027161,\n",
       "  0.8211885094642639,\n",
       "  0.8211143016815186,\n",
       "  0.8203130960464478,\n",
       "  0.8206543326377869,\n",
       "  0.8217968940734863,\n",
       "  0.8197343945503235,\n",
       "  0.8197640776634216,\n",
       "  0.821559488773346,\n",
       "  0.8198679685592651,\n",
       "  0.8226723074913025,\n",
       "  0.8212478756904602,\n",
       "  0.8204317688941956,\n",
       "  0.8209362626075745,\n",
       "  0.8197492361068726,\n",
       "  0.8210104703903198,\n",
       "  0.8218562006950378,\n",
       "  0.8209065794944763,\n",
       "  0.8200311660766602,\n",
       "  0.818265438079834,\n",
       "  0.819318950176239,\n",
       "  0.8222123384475708,\n",
       "  0.8211736679077148,\n",
       "  0.8160101175308228,\n",
       "  0.8171229362487793,\n",
       "  0.8199569582939148,\n",
       "  0.8223310112953186,\n",
       "  0.8193337917327881,\n",
       "  0.8206543326377869,\n",
       "  0.8218265175819397,\n",
       "  0.8209065794944763,\n",
       "  0.8198679685592651,\n",
       "  0.8191112279891968,\n",
       "  0.8207433819770813,\n",
       "  0.8216484785079956,\n",
       "  0.8213813900947571,\n",
       "  0.8209065794944763,\n",
       "  0.8204169273376465,\n",
       "  0.8211143016815186,\n",
       "  0.8199272751808167,\n",
       "  0.8229839205741882,\n",
       "  0.8212478756904602,\n",
       "  0.8143779039382935,\n",
       "  0.8211439847946167,\n",
       "  0.8190963864326477,\n",
       "  0.8205059766769409,\n",
       "  0.8219749331474304,\n",
       "  0.8199569582939148,\n",
       "  0.8185473680496216,\n",
       "  0.8205059766769409,\n",
       "  0.8207879066467285,\n",
       "  0.815861701965332,\n",
       "  0.8152385354042053,\n",
       "  0.8210253119468689,\n",
       "  0.8183841705322266,\n",
       "  0.8197343945503235,\n",
       "  0.8211291432380676,\n",
       "  0.8202537298202515,\n",
       "  0.8221381306648254,\n",
       "  0.8226426243782043,\n",
       "  0.8206988573074341,\n",
       "  0.8205653429031372,\n",
       "  0.8203130960464478,\n",
       "  0.8207285404205322],\n",
       " 'val_loss': [0.5585241317749023,\n",
       "  0.4755249321460724,\n",
       "  0.44401994347572327,\n",
       "  0.521240234375,\n",
       "  0.4919185936450958,\n",
       "  0.6062161922454834,\n",
       "  0.6291688084602356,\n",
       "  0.7445898056030273,\n",
       "  0.5565029978752136,\n",
       "  0.48615923523902893,\n",
       "  0.6154786944389343,\n",
       "  0.4571228623390198,\n",
       "  0.4338279664516449,\n",
       "  0.4626396596431732,\n",
       "  0.4644666016101837,\n",
       "  0.5150125622749329,\n",
       "  0.43067440390586853,\n",
       "  0.4417390525341034,\n",
       "  0.41444775462150574,\n",
       "  0.5360186696052551,\n",
       "  0.48832494020462036,\n",
       "  0.42639797925949097,\n",
       "  0.4141292870044708,\n",
       "  0.4328920841217041,\n",
       "  0.5056387782096863,\n",
       "  0.40761807560920715,\n",
       "  0.4273776710033417,\n",
       "  0.4212166666984558,\n",
       "  0.4169677495956421,\n",
       "  0.4232734441757202,\n",
       "  0.3953835964202881,\n",
       "  0.5020005106925964,\n",
       "  0.4731833040714264,\n",
       "  0.48242250084877014,\n",
       "  0.48992639780044556,\n",
       "  0.4474615454673767,\n",
       "  0.5125551223754883,\n",
       "  0.5258558988571167,\n",
       "  0.46429479122161865,\n",
       "  0.40784892439842224,\n",
       "  0.43157443404197693,\n",
       "  0.41768231987953186,\n",
       "  0.44393786787986755,\n",
       "  0.40129831433296204,\n",
       "  0.42772796750068665,\n",
       "  0.4894707202911377,\n",
       "  0.47625020146369934,\n",
       "  0.4057401716709137,\n",
       "  0.4330868422985077,\n",
       "  0.5457574725151062,\n",
       "  0.4262782633304596,\n",
       "  0.4120820164680481,\n",
       "  0.4050925374031067,\n",
       "  0.44760605692863464,\n",
       "  0.4219461679458618,\n",
       "  0.4488292932510376,\n",
       "  0.43057987093925476,\n",
       "  0.5002347230911255,\n",
       "  0.8314120769500732,\n",
       "  0.43625760078430176,\n",
       "  0.42629483342170715,\n",
       "  0.4184211790561676,\n",
       "  0.5317444801330566,\n",
       "  0.4375267028808594,\n",
       "  0.7484844326972961,\n",
       "  0.6395114660263062,\n",
       "  0.4205051064491272,\n",
       "  0.43264710903167725,\n",
       "  0.4052080810070038,\n",
       "  0.5031725168228149,\n",
       "  0.479213148355484,\n",
       "  0.9701495170593262,\n",
       "  0.4496484100818634,\n",
       "  0.5073592662811279,\n",
       "  0.44669148325920105,\n",
       "  0.43201181292533875,\n",
       "  0.38947173953056335,\n",
       "  0.43249812722206116,\n",
       "  0.4020458459854126,\n",
       "  0.44404521584510803,\n",
       "  0.5627872943878174,\n",
       "  0.5663589239120483,\n",
       "  0.43314218521118164,\n",
       "  0.3973534107208252,\n",
       "  0.4828955829143524,\n",
       "  0.8377043008804321,\n",
       "  0.42125269770622253,\n",
       "  0.40306276082992554,\n",
       "  0.39267972111701965,\n",
       "  0.45327115058898926,\n",
       "  0.44705483317375183,\n",
       "  0.44407355785369873,\n",
       "  0.45366576313972473,\n",
       "  0.5130602121353149,\n",
       "  0.500166118144989,\n",
       "  0.4300134778022766,\n",
       "  0.4215746819972992,\n",
       "  0.5475690960884094,\n",
       "  0.4829583764076233,\n",
       "  0.5190860033035278,\n",
       "  0.4040890634059906,\n",
       "  0.5803817510604858,\n",
       "  0.39404693245887756,\n",
       "  0.44659698009490967,\n",
       "  0.4114445447921753,\n",
       "  0.46020305156707764,\n",
       "  0.49403125047683716,\n",
       "  0.42433181405067444,\n",
       "  0.7223178744316101,\n",
       "  0.43473291397094727,\n",
       "  0.3891288936138153,\n",
       "  0.3976343870162964,\n",
       "  0.49493730068206787,\n",
       "  0.5988996624946594,\n",
       "  0.3973821997642517,\n",
       "  0.5266491770744324,\n",
       "  0.5450859665870667,\n",
       "  0.6662866473197937,\n",
       "  0.4508184790611267,\n",
       "  0.40190985798835754,\n",
       "  0.4054909944534302,\n",
       "  0.4751386046409607,\n",
       "  0.4257417321205139,\n",
       "  0.39476439356803894,\n",
       "  0.4913889765739441,\n",
       "  0.4135655462741852,\n",
       "  0.4099411368370056,\n",
       "  0.4698122441768646,\n",
       "  0.42111921310424805,\n",
       "  0.40163832902908325,\n",
       "  0.46457791328430176,\n",
       "  0.395967960357666,\n",
       "  0.4266888499259949,\n",
       "  0.42230355739593506,\n",
       "  0.389639288187027,\n",
       "  0.47660163044929504,\n",
       "  0.5836959481239319,\n",
       "  0.4571012258529663,\n",
       "  0.3926108479499817,\n",
       "  0.430351197719574,\n",
       "  0.39096173644065857,\n",
       "  0.4236869513988495,\n",
       "  0.44033318758010864,\n",
       "  0.4210982322692871,\n",
       "  0.4267309904098511,\n",
       "  0.492670476436615,\n",
       "  0.46211129426956177,\n",
       "  0.418832004070282,\n",
       "  0.49483904242515564,\n",
       "  0.40475568175315857],\n",
       " 'val_accuracy': [0.8046994805335999,\n",
       "  0.7846663594245911,\n",
       "  0.8056032657623291,\n",
       "  0.76927250623703,\n",
       "  0.7719535827636719,\n",
       "  0.7415273189544678,\n",
       "  0.6909775733947754,\n",
       "  0.6260882616043091,\n",
       "  0.7453833222389221,\n",
       "  0.7760807275772095,\n",
       "  0.7516794800758362,\n",
       "  0.7983130216598511,\n",
       "  0.8070793747901917,\n",
       "  0.7865341305732727,\n",
       "  0.7975900173187256,\n",
       "  0.7541195750236511,\n",
       "  0.8156047463417053,\n",
       "  0.802018404006958,\n",
       "  0.8177737593650818,\n",
       "  0.7603554725646973,\n",
       "  0.7852387428283691,\n",
       "  0.818105161190033,\n",
       "  0.8192197680473328,\n",
       "  0.8043078780174255,\n",
       "  0.7915951013565063,\n",
       "  0.8286790251731873,\n",
       "  0.8102123737335205,\n",
       "  0.815213143825531,\n",
       "  0.8198524117469788,\n",
       "  0.8153336048126221,\n",
       "  0.8301852941513062,\n",
       "  0.7605060935020447,\n",
       "  0.7951498627662659,\n",
       "  0.7961138486862183,\n",
       "  0.8000903725624084,\n",
       "  0.8082844018936157,\n",
       "  0.7696942090988159,\n",
       "  0.7565295696258545,\n",
       "  0.8065069913864136,\n",
       "  0.8224130272865295,\n",
       "  0.8247928619384766,\n",
       "  0.825515866279602,\n",
       "  0.8109052777290344,\n",
       "  0.8256062865257263,\n",
       "  0.810302734375,\n",
       "  0.7701762318611145,\n",
       "  0.7871065139770508,\n",
       "  0.8287995457649231,\n",
       "  0.799367368221283,\n",
       "  0.7580960988998413,\n",
       "  0.8173519968986511,\n",
       "  0.8276547789573669,\n",
       "  0.8237987756729126,\n",
       "  0.8128332495689392,\n",
       "  0.818105161190033,\n",
       "  0.8115981221199036,\n",
       "  0.8040969967842102,\n",
       "  0.7703268527984619,\n",
       "  0.6715167760848999,\n",
       "  0.8004518747329712,\n",
       "  0.8145503997802734,\n",
       "  0.8187076449394226,\n",
       "  0.7765627503395081,\n",
       "  0.8244012594223022,\n",
       "  0.742611825466156,\n",
       "  0.6995029449462891,\n",
       "  0.8197921514511108,\n",
       "  0.8201234936714172,\n",
       "  0.8262991309165955,\n",
       "  0.7882211208343506,\n",
       "  0.8131646513938904,\n",
       "  0.6051212549209595,\n",
       "  0.7847567200660706,\n",
       "  0.7497514486312866,\n",
       "  0.7982828617095947,\n",
       "  0.8152432441711426,\n",
       "  0.8358487486839294,\n",
       "  0.8118993639945984,\n",
       "  0.8294923901557922,\n",
       "  0.8082844018936157,\n",
       "  0.7533363699913025,\n",
       "  0.7661093473434448,\n",
       "  0.8078324794769287,\n",
       "  0.8332278728485107,\n",
       "  0.8044885993003845,\n",
       "  0.6764572858810425,\n",
       "  0.8195511102676392,\n",
       "  0.8246422410011292,\n",
       "  0.8366320133209229,\n",
       "  0.8063563704490662,\n",
       "  0.8034643530845642,\n",
       "  0.8061756491661072,\n",
       "  0.7978008985519409,\n",
       "  0.7512577176094055,\n",
       "  0.7605060935020447,\n",
       "  0.810935378074646,\n",
       "  0.8232263922691345,\n",
       "  0.7811718583106995,\n",
       "  0.7921976447105408,\n",
       "  0.750594973564148,\n",
       "  0.8250640034675598,\n",
       "  0.7836421132087708,\n",
       "  0.8354270458221436,\n",
       "  0.8017773628234863,\n",
       "  0.8206356167793274,\n",
       "  0.8097002506256104,\n",
       "  0.7726464867591858,\n",
       "  0.8200331330299377,\n",
       "  0.6788371801376343,\n",
       "  0.8109956383705139,\n",
       "  0.8314204216003418,\n",
       "  0.8300045132637024,\n",
       "  0.7735201120376587,\n",
       "  0.7555053234100342,\n",
       "  0.8310890197753906,\n",
       "  0.7604458332061768,\n",
       "  0.7858111262321472,\n",
       "  0.6760656833648682,\n",
       "  0.799367368221283,\n",
       "  0.8294923901557922,\n",
       "  0.8313300013542175,\n",
       "  0.8030426502227783,\n",
       "  0.8124416470527649,\n",
       "  0.834252119064331,\n",
       "  0.7777677178382874,\n",
       "  0.8321735262870789,\n",
       "  0.8272330164909363,\n",
       "  0.8071697354316711,\n",
       "  0.8161470293998718,\n",
       "  0.8316915035247803,\n",
       "  0.7892754673957825,\n",
       "  0.8288899064064026,\n",
       "  0.8201837539672852,\n",
       "  0.812562108039856,\n",
       "  0.8403373956680298,\n",
       "  0.7992770075798035,\n",
       "  0.7774966359138489,\n",
       "  0.7952703833580017,\n",
       "  0.8367525339126587,\n",
       "  0.8084651231765747,\n",
       "  0.835577666759491,\n",
       "  0.8179545402526855,\n",
       "  0.8059948682785034,\n",
       "  0.8214791417121887,\n",
       "  0.8165687322616577,\n",
       "  0.7846663594245911,\n",
       "  0.7891550064086914,\n",
       "  0.8128935098648071,\n",
       "  0.7874378561973572,\n",
       "  0.8220515251159668]}"
      ]
     },
     "execution_count": 99,
     "metadata": {},
     "output_type": "execute_result"
    }
   ],
   "source": [
    "history.history"
   ]
  },
  {
   "cell_type": "code",
   "execution_count": 104,
   "id": "b93865b9",
   "metadata": {},
   "outputs": [
    {
     "name": "stdout",
     "output_type": "stream",
     "text": [
      "Model: \"sequential_2\"\n",
      "_________________________________________________________________\n",
      " Layer (type)                Output Shape              Param #   \n",
      "=================================================================\n",
      " dense_8 (Dense)             (None, 128)               1664      \n",
      "                                                                 \n",
      " batch_normalization_6 (Bat  (None, 128)               512       \n",
      " chNormalization)                                                \n",
      "                                                                 \n",
      " dropout_6 (Dropout)         (None, 128)               0         \n",
      "                                                                 \n",
      " dense_9 (Dense)             (None, 64)                8256      \n",
      "                                                                 \n",
      " batch_normalization_7 (Bat  (None, 64)                256       \n",
      " chNormalization)                                                \n",
      "                                                                 \n",
      " dropout_7 (Dropout)         (None, 64)                0         \n",
      "                                                                 \n",
      " dense_10 (Dense)            (None, 32)                2080      \n",
      "                                                                 \n",
      " batch_normalization_8 (Bat  (None, 32)                128       \n",
      " chNormalization)                                                \n",
      "                                                                 \n",
      " dropout_8 (Dropout)         (None, 32)                0         \n",
      "                                                                 \n",
      " dense_11 (Dense)            (None, 1)                 33        \n",
      "                                                                 \n",
      "=================================================================\n",
      "Total params: 12929 (50.50 KB)\n",
      "Trainable params: 12481 (48.75 KB)\n",
      "Non-trainable params: 448 (1.75 KB)\n",
      "_________________________________________________________________\n"
     ]
    }
   ],
   "source": [
    "model.summary()"
   ]
  },
  {
   "cell_type": "code",
   "execution_count": 187,
   "id": "6cfb7b6e",
   "metadata": {},
   "outputs": [
    {
     "name": "stdout",
     "output_type": "stream",
     "text": [
      "3144/3144 [==============================] - 17s 5ms/step - loss: 0.4439 - accuracy: 0.8111\n"
     ]
    },
    {
     "data": {
      "text/plain": [
       "<keras.src.callbacks.History at 0x18081ee1e50>"
      ]
     },
     "execution_count": 187,
     "metadata": {},
     "output_type": "execute_result"
    }
   ],
   "source": [
    "model.fit(x,y)"
   ]
  },
  {
   "cell_type": "markdown",
   "id": "44b780e9",
   "metadata": {},
   "source": [
    "Now for test data"
   ]
  },
  {
   "cell_type": "code",
   "execution_count": 188,
   "id": "36eb0646",
   "metadata": {},
   "outputs": [],
   "source": [
    "test=pd.read_csv(\"test.csv\")"
   ]
  },
  {
   "cell_type": "code",
   "execution_count": 189,
   "id": "8f874121",
   "metadata": {},
   "outputs": [
    {
     "data": {
      "text/html": [
       "<div>\n",
       "<style scoped>\n",
       "    .dataframe tbody tr th:only-of-type {\n",
       "        vertical-align: middle;\n",
       "    }\n",
       "\n",
       "    .dataframe tbody tr th {\n",
       "        vertical-align: top;\n",
       "    }\n",
       "\n",
       "    .dataframe thead th {\n",
       "        text-align: right;\n",
       "    }\n",
       "</style>\n",
       "<table border=\"1\" class=\"dataframe\">\n",
       "  <thead>\n",
       "    <tr style=\"text-align: right;\">\n",
       "      <th></th>\n",
       "      <th>id</th>\n",
       "      <th>person_age</th>\n",
       "      <th>person_income</th>\n",
       "      <th>person_home_ownership</th>\n",
       "      <th>person_emp_length</th>\n",
       "      <th>loan_intent</th>\n",
       "      <th>loan_grade</th>\n",
       "      <th>loan_amnt</th>\n",
       "      <th>loan_int_rate</th>\n",
       "      <th>loan_percent_income</th>\n",
       "      <th>cb_person_default_on_file</th>\n",
       "      <th>cb_person_cred_hist_length</th>\n",
       "    </tr>\n",
       "  </thead>\n",
       "  <tbody>\n",
       "    <tr>\n",
       "      <th>0</th>\n",
       "      <td>58645</td>\n",
       "      <td>23</td>\n",
       "      <td>69000</td>\n",
       "      <td>RENT</td>\n",
       "      <td>3.0</td>\n",
       "      <td>HOMEIMPROVEMENT</td>\n",
       "      <td>F</td>\n",
       "      <td>25000</td>\n",
       "      <td>15.76</td>\n",
       "      <td>0.36</td>\n",
       "      <td>N</td>\n",
       "      <td>2</td>\n",
       "    </tr>\n",
       "    <tr>\n",
       "      <th>1</th>\n",
       "      <td>58646</td>\n",
       "      <td>26</td>\n",
       "      <td>96000</td>\n",
       "      <td>MORTGAGE</td>\n",
       "      <td>6.0</td>\n",
       "      <td>PERSONAL</td>\n",
       "      <td>C</td>\n",
       "      <td>10000</td>\n",
       "      <td>12.68</td>\n",
       "      <td>0.10</td>\n",
       "      <td>Y</td>\n",
       "      <td>4</td>\n",
       "    </tr>\n",
       "    <tr>\n",
       "      <th>2</th>\n",
       "      <td>58647</td>\n",
       "      <td>26</td>\n",
       "      <td>30000</td>\n",
       "      <td>RENT</td>\n",
       "      <td>5.0</td>\n",
       "      <td>VENTURE</td>\n",
       "      <td>E</td>\n",
       "      <td>4000</td>\n",
       "      <td>17.19</td>\n",
       "      <td>0.13</td>\n",
       "      <td>Y</td>\n",
       "      <td>2</td>\n",
       "    </tr>\n",
       "  </tbody>\n",
       "</table>\n",
       "</div>"
      ],
      "text/plain": [
       "      id  person_age  person_income person_home_ownership  person_emp_length  \\\n",
       "0  58645          23          69000                  RENT                3.0   \n",
       "1  58646          26          96000              MORTGAGE                6.0   \n",
       "2  58647          26          30000                  RENT                5.0   \n",
       "\n",
       "       loan_intent loan_grade  loan_amnt  loan_int_rate  loan_percent_income  \\\n",
       "0  HOMEIMPROVEMENT          F      25000          15.76                 0.36   \n",
       "1         PERSONAL          C      10000          12.68                 0.10   \n",
       "2          VENTURE          E       4000          17.19                 0.13   \n",
       "\n",
       "  cb_person_default_on_file  cb_person_cred_hist_length  \n",
       "0                         N                           2  \n",
       "1                         Y                           4  \n",
       "2                         Y                           2  "
      ]
     },
     "execution_count": 189,
     "metadata": {},
     "output_type": "execute_result"
    }
   ],
   "source": [
    "test.head(3)"
   ]
  },
  {
   "cell_type": "code",
   "execution_count": 190,
   "id": "f0670c66",
   "metadata": {},
   "outputs": [],
   "source": [
    "test_data=test.drop('id',axis=1)"
   ]
  },
  {
   "cell_type": "code",
   "execution_count": 191,
   "id": "e0e20769",
   "metadata": {},
   "outputs": [
    {
     "name": "stdout",
     "output_type": "stream",
     "text": [
      "<class 'pandas.core.frame.DataFrame'>\n",
      "RangeIndex: 39098 entries, 0 to 39097\n",
      "Data columns (total 11 columns):\n",
      " #   Column                      Non-Null Count  Dtype  \n",
      "---  ------                      --------------  -----  \n",
      " 0   person_age                  39098 non-null  int64  \n",
      " 1   person_income               39098 non-null  int64  \n",
      " 2   person_home_ownership       39098 non-null  object \n",
      " 3   person_emp_length           39098 non-null  float64\n",
      " 4   loan_intent                 39098 non-null  object \n",
      " 5   loan_grade                  39098 non-null  object \n",
      " 6   loan_amnt                   39098 non-null  int64  \n",
      " 7   loan_int_rate               39098 non-null  float64\n",
      " 8   loan_percent_income         39098 non-null  float64\n",
      " 9   cb_person_default_on_file   39098 non-null  object \n",
      " 10  cb_person_cred_hist_length  39098 non-null  int64  \n",
      "dtypes: float64(3), int64(4), object(4)\n",
      "memory usage: 3.3+ MB\n"
     ]
    }
   ],
   "source": [
    "test_data.info()"
   ]
  },
  {
   "cell_type": "markdown",
   "id": "f12fa11c",
   "metadata": {},
   "source": [
    "No null values present"
   ]
  },
  {
   "cell_type": "code",
   "execution_count": 192,
   "id": "f506c7aa",
   "metadata": {},
   "outputs": [],
   "source": [
    "test_data['person_home_ownership']=test_data['person_home_ownership'].map({'RENT':0,'MORTGAGE':1,'OWN':2,'OTHER':3})"
   ]
  },
  {
   "cell_type": "code",
   "execution_count": 193,
   "id": "80cb218b",
   "metadata": {},
   "outputs": [],
   "source": [
    "test_data['loan_intent']=test_data['loan_intent'].map({'EDUCATION':0,'MEDICAL':1,'PERSONAL':2,'VENTURE':3,'DEBTCONSOLIDATION':4,'HOMEIMPROVEMENT':5})"
   ]
  },
  {
   "cell_type": "code",
   "execution_count": 194,
   "id": "820732dc",
   "metadata": {},
   "outputs": [],
   "source": [
    "test_data['loan_grade']=test_data['loan_grade'].map({'unknown':0,'A':1,'B':2,'C':3,'D':4,'E':5,'F':6,'G':7})"
   ]
  },
  {
   "cell_type": "code",
   "execution_count": 195,
   "id": "52685484",
   "metadata": {},
   "outputs": [],
   "source": [
    "test_data['cb_person_default_on_file_NO']=test_data['cb_person_default_on_file'].map({'N':1,'Y':0})\n",
    "test_data['cb_person_default_on_file_YES']=test_data['cb_person_default_on_file'].map({'Y':1,'N':0})\n",
    "test_data.drop('cb_person_default_on_file',axis=1,inplace=True)"
   ]
  },
  {
   "cell_type": "code",
   "execution_count": 196,
   "id": "b8a8471d",
   "metadata": {},
   "outputs": [],
   "source": [
    "for i in outliers_present:\n",
    "    q1=data[i].quantile(0.25)\n",
    "    q3=data[i].quantile(0.75)\n",
    "    iqr=q3-q1\n",
    "    maximum=q3+1.5*iqr\n",
    "    minimum=q1-1.5*iqr\n",
    "    \n",
    "    test_data[i]= np.where(test_data[i]>=maximum,data[i].median(),test_data[i])\n",
    "    test_data[i]= np.where(test_data[i]<=minimum,data[i].median(),test_data[i])"
   ]
  },
  {
   "cell_type": "code",
   "execution_count": 197,
   "id": "dd76d679",
   "metadata": {},
   "outputs": [],
   "source": [
    "test_data['person_age']=np.where(test_data['person_age']>100,100,test_data['person_age'])"
   ]
  },
  {
   "cell_type": "code",
   "execution_count": 198,
   "id": "36cb6d00",
   "metadata": {},
   "outputs": [],
   "source": [
    "noramlize_col=['loan_amnt','person_income']\n",
    "for i in noramlize_col:\n",
    "    test_data[i]=(test_data[i]-(data[i].min()))/(data[i].max()-data[i].min())"
   ]
  },
  {
   "cell_type": "code",
   "execution_count": 199,
   "id": "0835d765",
   "metadata": {},
   "outputs": [],
   "source": [
    "test['result']=ml_model.predict(test_data)"
   ]
  },
  {
   "cell_type": "code",
   "execution_count": 200,
   "id": "f1873a21",
   "metadata": {},
   "outputs": [],
   "source": [
    "#y_pred=model.predict(test_data).ravel()\n",
    "#test['result'] = (y_pred > 0.5).astype(int)\n"
   ]
  },
  {
   "cell_type": "code",
   "execution_count": 201,
   "id": "f12dea78",
   "metadata": {},
   "outputs": [
    {
     "data": {
      "text/html": [
       "<div>\n",
       "<style scoped>\n",
       "    .dataframe tbody tr th:only-of-type {\n",
       "        vertical-align: middle;\n",
       "    }\n",
       "\n",
       "    .dataframe tbody tr th {\n",
       "        vertical-align: top;\n",
       "    }\n",
       "\n",
       "    .dataframe thead th {\n",
       "        text-align: right;\n",
       "    }\n",
       "</style>\n",
       "<table border=\"1\" class=\"dataframe\">\n",
       "  <thead>\n",
       "    <tr style=\"text-align: right;\">\n",
       "      <th></th>\n",
       "      <th>id</th>\n",
       "      <th>person_age</th>\n",
       "      <th>person_income</th>\n",
       "      <th>person_home_ownership</th>\n",
       "      <th>person_emp_length</th>\n",
       "      <th>loan_intent</th>\n",
       "      <th>loan_grade</th>\n",
       "      <th>loan_amnt</th>\n",
       "      <th>loan_int_rate</th>\n",
       "      <th>loan_percent_income</th>\n",
       "      <th>cb_person_default_on_file</th>\n",
       "      <th>cb_person_cred_hist_length</th>\n",
       "      <th>result</th>\n",
       "    </tr>\n",
       "  </thead>\n",
       "  <tbody>\n",
       "    <tr>\n",
       "      <th>0</th>\n",
       "      <td>58645</td>\n",
       "      <td>23</td>\n",
       "      <td>69000</td>\n",
       "      <td>RENT</td>\n",
       "      <td>3.0</td>\n",
       "      <td>HOMEIMPROVEMENT</td>\n",
       "      <td>F</td>\n",
       "      <td>25000</td>\n",
       "      <td>15.76</td>\n",
       "      <td>0.36</td>\n",
       "      <td>N</td>\n",
       "      <td>2</td>\n",
       "      <td>1</td>\n",
       "    </tr>\n",
       "    <tr>\n",
       "      <th>1</th>\n",
       "      <td>58646</td>\n",
       "      <td>26</td>\n",
       "      <td>96000</td>\n",
       "      <td>MORTGAGE</td>\n",
       "      <td>6.0</td>\n",
       "      <td>PERSONAL</td>\n",
       "      <td>C</td>\n",
       "      <td>10000</td>\n",
       "      <td>12.68</td>\n",
       "      <td>0.10</td>\n",
       "      <td>Y</td>\n",
       "      <td>4</td>\n",
       "      <td>0</td>\n",
       "    </tr>\n",
       "    <tr>\n",
       "      <th>2</th>\n",
       "      <td>58647</td>\n",
       "      <td>26</td>\n",
       "      <td>30000</td>\n",
       "      <td>RENT</td>\n",
       "      <td>5.0</td>\n",
       "      <td>VENTURE</td>\n",
       "      <td>E</td>\n",
       "      <td>4000</td>\n",
       "      <td>17.19</td>\n",
       "      <td>0.13</td>\n",
       "      <td>Y</td>\n",
       "      <td>2</td>\n",
       "      <td>0</td>\n",
       "    </tr>\n",
       "  </tbody>\n",
       "</table>\n",
       "</div>"
      ],
      "text/plain": [
       "      id  person_age  person_income person_home_ownership  person_emp_length  \\\n",
       "0  58645          23          69000                  RENT                3.0   \n",
       "1  58646          26          96000              MORTGAGE                6.0   \n",
       "2  58647          26          30000                  RENT                5.0   \n",
       "\n",
       "       loan_intent loan_grade  loan_amnt  loan_int_rate  loan_percent_income  \\\n",
       "0  HOMEIMPROVEMENT          F      25000          15.76                 0.36   \n",
       "1         PERSONAL          C      10000          12.68                 0.10   \n",
       "2          VENTURE          E       4000          17.19                 0.13   \n",
       "\n",
       "  cb_person_default_on_file  cb_person_cred_hist_length  result  \n",
       "0                         N                           2       1  \n",
       "1                         Y                           4       0  \n",
       "2                         Y                           2       0  "
      ]
     },
     "execution_count": 201,
     "metadata": {},
     "output_type": "execute_result"
    }
   ],
   "source": [
    "test.head(3)"
   ]
  },
  {
   "cell_type": "code",
   "execution_count": 202,
   "id": "2f4f7911",
   "metadata": {},
   "outputs": [],
   "source": [
    "res={'id':test['id'],'loan_status':test['result']}\n",
    "df=pd.DataFrame(res)"
   ]
  },
  {
   "cell_type": "code",
   "execution_count": 203,
   "id": "1c8fc4bd",
   "metadata": {},
   "outputs": [],
   "source": [
    "df.to_csv('result.csv',index=False)"
   ]
  }
 ],
 "metadata": {
  "kernelspec": {
   "display_name": "Python 3 (ipykernel)",
   "language": "python",
   "name": "python3"
  },
  "language_info": {
   "codemirror_mode": {
    "name": "ipython",
    "version": 3
   },
   "file_extension": ".py",
   "mimetype": "text/x-python",
   "name": "python",
   "nbconvert_exporter": "python",
   "pygments_lexer": "ipython3",
   "version": "3.11.5"
  }
 },
 "nbformat": 4,
 "nbformat_minor": 5
}
